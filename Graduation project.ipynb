{
 "cells": [
  {
   "cell_type": "code",
   "execution_count": 1,
   "metadata": {},
   "outputs": [],
   "source": [
    "import pandas as pd \n",
    "import numpy as np \n",
    "import seaborn as sns \n",
    "import matplotlib.pyplot as plt\n",
    "%matplotlib inline"
   ]
  },
  {
   "cell_type": "code",
   "execution_count": 2,
   "metadata": {},
   "outputs": [
    {
     "data": {
      "text/html": [
       "<div>\n",
       "<style scoped>\n",
       "    .dataframe tbody tr th:only-of-type {\n",
       "        vertical-align: middle;\n",
       "    }\n",
       "\n",
       "    .dataframe tbody tr th {\n",
       "        vertical-align: top;\n",
       "    }\n",
       "\n",
       "    .dataframe thead th {\n",
       "        text-align: right;\n",
       "    }\n",
       "</style>\n",
       "<table border=\"1\" class=\"dataframe\">\n",
       "  <thead>\n",
       "    <tr style=\"text-align: right;\">\n",
       "      <th></th>\n",
       "      <th>weight</th>\n",
       "      <th>age</th>\n",
       "      <th>height</th>\n",
       "      <th>size</th>\n",
       "    </tr>\n",
       "  </thead>\n",
       "  <tbody>\n",
       "    <tr>\n",
       "      <th>0</th>\n",
       "      <td>62</td>\n",
       "      <td>28.0</td>\n",
       "      <td>172.72</td>\n",
       "      <td>XL</td>\n",
       "    </tr>\n",
       "    <tr>\n",
       "      <th>1</th>\n",
       "      <td>59</td>\n",
       "      <td>36.0</td>\n",
       "      <td>167.64</td>\n",
       "      <td>L</td>\n",
       "    </tr>\n",
       "    <tr>\n",
       "      <th>2</th>\n",
       "      <td>61</td>\n",
       "      <td>34.0</td>\n",
       "      <td>165.10</td>\n",
       "      <td>M</td>\n",
       "    </tr>\n",
       "    <tr>\n",
       "      <th>3</th>\n",
       "      <td>65</td>\n",
       "      <td>27.0</td>\n",
       "      <td>175.26</td>\n",
       "      <td>L</td>\n",
       "    </tr>\n",
       "    <tr>\n",
       "      <th>4</th>\n",
       "      <td>62</td>\n",
       "      <td>45.0</td>\n",
       "      <td>172.72</td>\n",
       "      <td>M</td>\n",
       "    </tr>\n",
       "    <tr>\n",
       "      <th>...</th>\n",
       "      <td>...</td>\n",
       "      <td>...</td>\n",
       "      <td>...</td>\n",
       "      <td>...</td>\n",
       "    </tr>\n",
       "    <tr>\n",
       "      <th>119729</th>\n",
       "      <td>63</td>\n",
       "      <td>42.0</td>\n",
       "      <td>175.26</td>\n",
       "      <td>M</td>\n",
       "    </tr>\n",
       "    <tr>\n",
       "      <th>119730</th>\n",
       "      <td>45</td>\n",
       "      <td>29.0</td>\n",
       "      <td>154.94</td>\n",
       "      <td>S</td>\n",
       "    </tr>\n",
       "    <tr>\n",
       "      <th>119731</th>\n",
       "      <td>61</td>\n",
       "      <td>31.0</td>\n",
       "      <td>172.72</td>\n",
       "      <td>M</td>\n",
       "    </tr>\n",
       "    <tr>\n",
       "      <th>119732</th>\n",
       "      <td>74</td>\n",
       "      <td>31.0</td>\n",
       "      <td>167.64</td>\n",
       "      <td>XL</td>\n",
       "    </tr>\n",
       "    <tr>\n",
       "      <th>119733</th>\n",
       "      <td>70</td>\n",
       "      <td>30.0</td>\n",
       "      <td>167.64</td>\n",
       "      <td>XL</td>\n",
       "    </tr>\n",
       "  </tbody>\n",
       "</table>\n",
       "<p>119734 rows × 4 columns</p>\n",
       "</div>"
      ],
      "text/plain": [
       "        weight   age  height size\n",
       "0           62  28.0  172.72   XL\n",
       "1           59  36.0  167.64    L\n",
       "2           61  34.0  165.10    M\n",
       "3           65  27.0  175.26    L\n",
       "4           62  45.0  172.72    M\n",
       "...        ...   ...     ...  ...\n",
       "119729      63  42.0  175.26    M\n",
       "119730      45  29.0  154.94    S\n",
       "119731      61  31.0  172.72    M\n",
       "119732      74  31.0  167.64   XL\n",
       "119733      70  30.0  167.64   XL\n",
       "\n",
       "[119734 rows x 4 columns]"
      ]
     },
     "execution_count": 2,
     "metadata": {},
     "output_type": "execute_result"
    }
   ],
   "source": [
    "df=pd.read_csv('final_test.csv')\n",
    "df"
   ]
  },
  {
   "cell_type": "code",
   "execution_count": 3,
   "metadata": {},
   "outputs": [
    {
     "name": "stdout",
     "output_type": "stream",
     "text": [
      "<class 'pandas.core.frame.DataFrame'>\n",
      "RangeIndex: 119734 entries, 0 to 119733\n",
      "Data columns (total 4 columns):\n",
      " #   Column  Non-Null Count   Dtype  \n",
      "---  ------  --------------   -----  \n",
      " 0   weight  119734 non-null  int64  \n",
      " 1   age     119477 non-null  float64\n",
      " 2   height  119404 non-null  float64\n",
      " 3   size    119734 non-null  object \n",
      "dtypes: float64(2), int64(1), object(1)\n",
      "memory usage: 3.7+ MB\n"
     ]
    }
   ],
   "source": [
    "df.info()"
   ]
  },
  {
   "cell_type": "code",
   "execution_count": 4,
   "metadata": {},
   "outputs": [
    {
     "data": {
      "text/html": [
       "<div>\n",
       "<style scoped>\n",
       "    .dataframe tbody tr th:only-of-type {\n",
       "        vertical-align: middle;\n",
       "    }\n",
       "\n",
       "    .dataframe tbody tr th {\n",
       "        vertical-align: top;\n",
       "    }\n",
       "\n",
       "    .dataframe thead th {\n",
       "        text-align: right;\n",
       "    }\n",
       "</style>\n",
       "<table border=\"1\" class=\"dataframe\">\n",
       "  <thead>\n",
       "    <tr style=\"text-align: right;\">\n",
       "      <th></th>\n",
       "      <th>weight</th>\n",
       "      <th>age</th>\n",
       "      <th>height</th>\n",
       "    </tr>\n",
       "  </thead>\n",
       "  <tbody>\n",
       "    <tr>\n",
       "      <th>count</th>\n",
       "      <td>119734.000000</td>\n",
       "      <td>119477.000000</td>\n",
       "      <td>119404.000000</td>\n",
       "    </tr>\n",
       "    <tr>\n",
       "      <th>mean</th>\n",
       "      <td>61.756811</td>\n",
       "      <td>34.027311</td>\n",
       "      <td>165.805794</td>\n",
       "    </tr>\n",
       "    <tr>\n",
       "      <th>std</th>\n",
       "      <td>9.944863</td>\n",
       "      <td>8.149447</td>\n",
       "      <td>6.737651</td>\n",
       "    </tr>\n",
       "    <tr>\n",
       "      <th>min</th>\n",
       "      <td>22.000000</td>\n",
       "      <td>0.000000</td>\n",
       "      <td>137.160000</td>\n",
       "    </tr>\n",
       "    <tr>\n",
       "      <th>25%</th>\n",
       "      <td>55.000000</td>\n",
       "      <td>29.000000</td>\n",
       "      <td>160.020000</td>\n",
       "    </tr>\n",
       "    <tr>\n",
       "      <th>50%</th>\n",
       "      <td>61.000000</td>\n",
       "      <td>32.000000</td>\n",
       "      <td>165.100000</td>\n",
       "    </tr>\n",
       "    <tr>\n",
       "      <th>75%</th>\n",
       "      <td>67.000000</td>\n",
       "      <td>37.000000</td>\n",
       "      <td>170.180000</td>\n",
       "    </tr>\n",
       "    <tr>\n",
       "      <th>max</th>\n",
       "      <td>136.000000</td>\n",
       "      <td>117.000000</td>\n",
       "      <td>193.040000</td>\n",
       "    </tr>\n",
       "  </tbody>\n",
       "</table>\n",
       "</div>"
      ],
      "text/plain": [
       "              weight            age         height\n",
       "count  119734.000000  119477.000000  119404.000000\n",
       "mean       61.756811      34.027311     165.805794\n",
       "std         9.944863       8.149447       6.737651\n",
       "min        22.000000       0.000000     137.160000\n",
       "25%        55.000000      29.000000     160.020000\n",
       "50%        61.000000      32.000000     165.100000\n",
       "75%        67.000000      37.000000     170.180000\n",
       "max       136.000000     117.000000     193.040000"
      ]
     },
     "execution_count": 4,
     "metadata": {},
     "output_type": "execute_result"
    }
   ],
   "source": [
    "df.describe()"
   ]
  },
  {
   "cell_type": "code",
   "execution_count": 5,
   "metadata": {},
   "outputs": [
    {
     "data": {
      "text/plain": [
       "(119734, 4)"
      ]
     },
     "execution_count": 5,
     "metadata": {},
     "output_type": "execute_result"
    }
   ],
   "source": [
    "df.shape"
   ]
  },
  {
   "cell_type": "code",
   "execution_count": 6,
   "metadata": {},
   "outputs": [
    {
     "data": {
      "text/html": [
       "<div>\n",
       "<style scoped>\n",
       "    .dataframe tbody tr th:only-of-type {\n",
       "        vertical-align: middle;\n",
       "    }\n",
       "\n",
       "    .dataframe tbody tr th {\n",
       "        vertical-align: top;\n",
       "    }\n",
       "\n",
       "    .dataframe thead th {\n",
       "        text-align: right;\n",
       "    }\n",
       "</style>\n",
       "<table border=\"1\" class=\"dataframe\">\n",
       "  <thead>\n",
       "    <tr style=\"text-align: right;\">\n",
       "      <th></th>\n",
       "      <th>weight</th>\n",
       "      <th>age</th>\n",
       "      <th>height</th>\n",
       "      <th>size</th>\n",
       "    </tr>\n",
       "  </thead>\n",
       "  <tbody>\n",
       "    <tr>\n",
       "      <th>0</th>\n",
       "      <td>62</td>\n",
       "      <td>28.0</td>\n",
       "      <td>172.72</td>\n",
       "      <td>XL</td>\n",
       "    </tr>\n",
       "    <tr>\n",
       "      <th>1</th>\n",
       "      <td>59</td>\n",
       "      <td>36.0</td>\n",
       "      <td>167.64</td>\n",
       "      <td>L</td>\n",
       "    </tr>\n",
       "    <tr>\n",
       "      <th>2</th>\n",
       "      <td>61</td>\n",
       "      <td>34.0</td>\n",
       "      <td>165.10</td>\n",
       "      <td>M</td>\n",
       "    </tr>\n",
       "    <tr>\n",
       "      <th>3</th>\n",
       "      <td>65</td>\n",
       "      <td>27.0</td>\n",
       "      <td>175.26</td>\n",
       "      <td>L</td>\n",
       "    </tr>\n",
       "    <tr>\n",
       "      <th>4</th>\n",
       "      <td>62</td>\n",
       "      <td>45.0</td>\n",
       "      <td>172.72</td>\n",
       "      <td>M</td>\n",
       "    </tr>\n",
       "  </tbody>\n",
       "</table>\n",
       "</div>"
      ],
      "text/plain": [
       "   weight   age  height size\n",
       "0      62  28.0  172.72   XL\n",
       "1      59  36.0  167.64    L\n",
       "2      61  34.0  165.10    M\n",
       "3      65  27.0  175.26    L\n",
       "4      62  45.0  172.72    M"
      ]
     },
     "execution_count": 6,
     "metadata": {},
     "output_type": "execute_result"
    }
   ],
   "source": [
    "df.head()"
   ]
  },
  {
   "cell_type": "code",
   "execution_count": 7,
   "metadata": {},
   "outputs": [
    {
     "data": {
      "text/html": [
       "<div>\n",
       "<style scoped>\n",
       "    .dataframe tbody tr th:only-of-type {\n",
       "        vertical-align: middle;\n",
       "    }\n",
       "\n",
       "    .dataframe tbody tr th {\n",
       "        vertical-align: top;\n",
       "    }\n",
       "\n",
       "    .dataframe thead th {\n",
       "        text-align: right;\n",
       "    }\n",
       "</style>\n",
       "<table border=\"1\" class=\"dataframe\">\n",
       "  <thead>\n",
       "    <tr style=\"text-align: right;\">\n",
       "      <th></th>\n",
       "      <th>weight</th>\n",
       "      <th>age</th>\n",
       "      <th>height</th>\n",
       "      <th>size</th>\n",
       "    </tr>\n",
       "  </thead>\n",
       "  <tbody>\n",
       "    <tr>\n",
       "      <th>0</th>\n",
       "      <td>False</td>\n",
       "      <td>False</td>\n",
       "      <td>False</td>\n",
       "      <td>False</td>\n",
       "    </tr>\n",
       "    <tr>\n",
       "      <th>1</th>\n",
       "      <td>False</td>\n",
       "      <td>False</td>\n",
       "      <td>False</td>\n",
       "      <td>False</td>\n",
       "    </tr>\n",
       "    <tr>\n",
       "      <th>2</th>\n",
       "      <td>False</td>\n",
       "      <td>False</td>\n",
       "      <td>False</td>\n",
       "      <td>False</td>\n",
       "    </tr>\n",
       "    <tr>\n",
       "      <th>3</th>\n",
       "      <td>False</td>\n",
       "      <td>False</td>\n",
       "      <td>False</td>\n",
       "      <td>False</td>\n",
       "    </tr>\n",
       "    <tr>\n",
       "      <th>4</th>\n",
       "      <td>False</td>\n",
       "      <td>False</td>\n",
       "      <td>False</td>\n",
       "      <td>False</td>\n",
       "    </tr>\n",
       "    <tr>\n",
       "      <th>...</th>\n",
       "      <td>...</td>\n",
       "      <td>...</td>\n",
       "      <td>...</td>\n",
       "      <td>...</td>\n",
       "    </tr>\n",
       "    <tr>\n",
       "      <th>119729</th>\n",
       "      <td>False</td>\n",
       "      <td>False</td>\n",
       "      <td>False</td>\n",
       "      <td>False</td>\n",
       "    </tr>\n",
       "    <tr>\n",
       "      <th>119730</th>\n",
       "      <td>False</td>\n",
       "      <td>False</td>\n",
       "      <td>False</td>\n",
       "      <td>False</td>\n",
       "    </tr>\n",
       "    <tr>\n",
       "      <th>119731</th>\n",
       "      <td>False</td>\n",
       "      <td>False</td>\n",
       "      <td>False</td>\n",
       "      <td>False</td>\n",
       "    </tr>\n",
       "    <tr>\n",
       "      <th>119732</th>\n",
       "      <td>False</td>\n",
       "      <td>False</td>\n",
       "      <td>False</td>\n",
       "      <td>False</td>\n",
       "    </tr>\n",
       "    <tr>\n",
       "      <th>119733</th>\n",
       "      <td>False</td>\n",
       "      <td>False</td>\n",
       "      <td>False</td>\n",
       "      <td>False</td>\n",
       "    </tr>\n",
       "  </tbody>\n",
       "</table>\n",
       "<p>119734 rows × 4 columns</p>\n",
       "</div>"
      ],
      "text/plain": [
       "        weight    age  height   size\n",
       "0        False  False   False  False\n",
       "1        False  False   False  False\n",
       "2        False  False   False  False\n",
       "3        False  False   False  False\n",
       "4        False  False   False  False\n",
       "...        ...    ...     ...    ...\n",
       "119729   False  False   False  False\n",
       "119730   False  False   False  False\n",
       "119731   False  False   False  False\n",
       "119732   False  False   False  False\n",
       "119733   False  False   False  False\n",
       "\n",
       "[119734 rows x 4 columns]"
      ]
     },
     "execution_count": 7,
     "metadata": {},
     "output_type": "execute_result"
    }
   ],
   "source": [
    "df.isnull()"
   ]
  },
  {
   "cell_type": "code",
   "execution_count": 8,
   "metadata": {},
   "outputs": [
    {
     "data": {
      "text/plain": [
       "weight    False\n",
       "age        True\n",
       "height     True\n",
       "size      False\n",
       "dtype: bool"
      ]
     },
     "execution_count": 8,
     "metadata": {},
     "output_type": "execute_result"
    }
   ],
   "source": [
    "df.isnull().any()"
   ]
  },
  {
   "cell_type": "code",
   "execution_count": 9,
   "metadata": {},
   "outputs": [
    {
     "data": {
      "text/plain": [
       "weight      0\n",
       "age       257\n",
       "height    330\n",
       "size        0\n",
       "dtype: int64"
      ]
     },
     "execution_count": 9,
     "metadata": {},
     "output_type": "execute_result"
    }
   ],
   "source": [
    "df.isnull().sum()"
   ]
  },
  {
   "cell_type": "code",
   "execution_count": 10,
   "metadata": {},
   "outputs": [],
   "source": [
    "#I have noticed that we have some missing data regarding the following points (age and height)>> both numerical data\n",
    "#Therefore we have used .any(), now we need to use dropna to fill the missing ones."
   ]
  },
  {
   "cell_type": "code",
   "execution_count": 94,
   "metadata": {},
   "outputs": [
    {
     "ename": "NameError",
     "evalue": "name 'dataframe' is not defined",
     "output_type": "error",
     "traceback": [
      "\u001b[1;31m---------------------------------------------------------------------------\u001b[0m",
      "\u001b[1;31mNameError\u001b[0m                                 Traceback (most recent call last)",
      "\u001b[1;32m<ipython-input-94-0cb5a1be0037>\u001b[0m in \u001b[0;36m<module>\u001b[1;34m\u001b[0m\n\u001b[0;32m      1\u001b[0m \u001b[1;31m#To handle this we have many ways (6)\u001b[0m\u001b[1;33m\u001b[0m\u001b[1;33m\u001b[0m\u001b[1;33m\u001b[0m\u001b[0m\n\u001b[0;32m      2\u001b[0m \u001b[1;31m#1. delete the rows wih missing valuse by using (Not valid if we have a small dataset)\u001b[0m\u001b[1;33m\u001b[0m\u001b[1;33m\u001b[0m\u001b[1;33m\u001b[0m\u001b[0m\n\u001b[1;32m----> 3\u001b[1;33m \u001b[0mdataframe\u001b[0m\u001b[1;33m.\u001b[0m\u001b[0mdropna\u001b[0m\u001b[1;33m(\u001b[0m\u001b[0minplace\u001b[0m\u001b[1;33m=\u001b[0m\u001b[1;32mTrue\u001b[0m\u001b[1;33m)\u001b[0m\u001b[1;33m\u001b[0m\u001b[1;33m\u001b[0m\u001b[0m\n\u001b[0m\u001b[0;32m      4\u001b[0m \u001b[1;31m#https://pandas.pydata.org/pandas-docs/stable/reference/api/pandas.DataFrame.dropna.html?highlight=dropna\u001b[0m\u001b[1;33m\u001b[0m\u001b[1;33m\u001b[0m\u001b[1;33m\u001b[0m\u001b[0m\n",
      "\u001b[1;31mNameError\u001b[0m: name 'dataframe' is not defined"
     ]
    }
   ],
   "source": [
    "#To handle this we have many ways (6)\n",
    "#1. delete the rows wih missing valuse by using (Not valid if we have a small dataset)\n",
    "dataframe.dropna(inplace=True)\n",
    "#https://pandas.pydata.org/pandas-docs/stable/reference/api/pandas.DataFrame.dropna.html?highlight=dropna"
   ]
  },
  {
   "cell_type": "code",
   "execution_count": 11,
   "metadata": {},
   "outputs": [],
   "source": [
    "df.dropna(inplace=True)"
   ]
  },
  {
   "cell_type": "code",
   "execution_count": 12,
   "metadata": {},
   "outputs": [
    {
     "data": {
      "text/html": [
       "<div>\n",
       "<style scoped>\n",
       "    .dataframe tbody tr th:only-of-type {\n",
       "        vertical-align: middle;\n",
       "    }\n",
       "\n",
       "    .dataframe tbody tr th {\n",
       "        vertical-align: top;\n",
       "    }\n",
       "\n",
       "    .dataframe thead th {\n",
       "        text-align: right;\n",
       "    }\n",
       "</style>\n",
       "<table border=\"1\" class=\"dataframe\">\n",
       "  <thead>\n",
       "    <tr style=\"text-align: right;\">\n",
       "      <th></th>\n",
       "      <th>weight</th>\n",
       "      <th>age</th>\n",
       "      <th>height</th>\n",
       "      <th>size</th>\n",
       "    </tr>\n",
       "  </thead>\n",
       "  <tbody>\n",
       "    <tr>\n",
       "      <th>0</th>\n",
       "      <td>False</td>\n",
       "      <td>False</td>\n",
       "      <td>False</td>\n",
       "      <td>False</td>\n",
       "    </tr>\n",
       "    <tr>\n",
       "      <th>1</th>\n",
       "      <td>False</td>\n",
       "      <td>False</td>\n",
       "      <td>False</td>\n",
       "      <td>False</td>\n",
       "    </tr>\n",
       "    <tr>\n",
       "      <th>2</th>\n",
       "      <td>False</td>\n",
       "      <td>False</td>\n",
       "      <td>False</td>\n",
       "      <td>False</td>\n",
       "    </tr>\n",
       "    <tr>\n",
       "      <th>3</th>\n",
       "      <td>False</td>\n",
       "      <td>False</td>\n",
       "      <td>False</td>\n",
       "      <td>False</td>\n",
       "    </tr>\n",
       "    <tr>\n",
       "      <th>4</th>\n",
       "      <td>False</td>\n",
       "      <td>False</td>\n",
       "      <td>False</td>\n",
       "      <td>False</td>\n",
       "    </tr>\n",
       "    <tr>\n",
       "      <th>...</th>\n",
       "      <td>...</td>\n",
       "      <td>...</td>\n",
       "      <td>...</td>\n",
       "      <td>...</td>\n",
       "    </tr>\n",
       "    <tr>\n",
       "      <th>119729</th>\n",
       "      <td>False</td>\n",
       "      <td>False</td>\n",
       "      <td>False</td>\n",
       "      <td>False</td>\n",
       "    </tr>\n",
       "    <tr>\n",
       "      <th>119730</th>\n",
       "      <td>False</td>\n",
       "      <td>False</td>\n",
       "      <td>False</td>\n",
       "      <td>False</td>\n",
       "    </tr>\n",
       "    <tr>\n",
       "      <th>119731</th>\n",
       "      <td>False</td>\n",
       "      <td>False</td>\n",
       "      <td>False</td>\n",
       "      <td>False</td>\n",
       "    </tr>\n",
       "    <tr>\n",
       "      <th>119732</th>\n",
       "      <td>False</td>\n",
       "      <td>False</td>\n",
       "      <td>False</td>\n",
       "      <td>False</td>\n",
       "    </tr>\n",
       "    <tr>\n",
       "      <th>119733</th>\n",
       "      <td>False</td>\n",
       "      <td>False</td>\n",
       "      <td>False</td>\n",
       "      <td>False</td>\n",
       "    </tr>\n",
       "  </tbody>\n",
       "</table>\n",
       "<p>119153 rows × 4 columns</p>\n",
       "</div>"
      ],
      "text/plain": [
       "        weight    age  height   size\n",
       "0        False  False   False  False\n",
       "1        False  False   False  False\n",
       "2        False  False   False  False\n",
       "3        False  False   False  False\n",
       "4        False  False   False  False\n",
       "...        ...    ...     ...    ...\n",
       "119729   False  False   False  False\n",
       "119730   False  False   False  False\n",
       "119731   False  False   False  False\n",
       "119732   False  False   False  False\n",
       "119733   False  False   False  False\n",
       "\n",
       "[119153 rows x 4 columns]"
      ]
     },
     "execution_count": 12,
     "metadata": {},
     "output_type": "execute_result"
    }
   ],
   "source": [
    "df.isnull()"
   ]
  },
  {
   "cell_type": "code",
   "execution_count": 13,
   "metadata": {},
   "outputs": [
    {
     "data": {
      "text/plain": [
       "weight    False\n",
       "age       False\n",
       "height    False\n",
       "size      False\n",
       "dtype: bool"
      ]
     },
     "execution_count": 13,
     "metadata": {},
     "output_type": "execute_result"
    }
   ],
   "source": [
    "df.isnull().any()\n",
    "#As we see there are no more missing valuse in the data set (all false)"
   ]
  },
  {
   "cell_type": "code",
   "execution_count": 14,
   "metadata": {},
   "outputs": [
    {
     "data": {
      "text/plain": [
       "weight    0\n",
       "age       0\n",
       "height    0\n",
       "size      0\n",
       "dtype: int64"
      ]
     },
     "execution_count": 14,
     "metadata": {},
     "output_type": "execute_result"
    }
   ],
   "source": [
    "df.isnull().sum()"
   ]
  },
  {
   "cell_type": "code",
   "execution_count": 15,
   "metadata": {},
   "outputs": [],
   "source": [
    "#OR To fill the missing with new data \n",
    "#Apply classifier algorithm \n",
    "#1.Mean/ Median /Mode imputation\n",
    "#2.Random Sample Imputation\n",
    "#3.Capturing NAN values with a new feature with (0 or 1)\n",
    "#4.End of Distribution imputation\n",
    "#5.KNN Imputer\n",
    "#https://anurodhchoudhary.medium.com/how-to-handle-numerical-missing-values-in-data-with-implementation-7d034884795e#:~:text=Missing%20Data%20can%20occur%20when%20no%20information%20is,to%20as%20NA%20%28Not%20Available%29%20values%20in%20pandas."
   ]
  },
  {
   "cell_type": "code",
   "execution_count": 16,
   "metadata": {},
   "outputs": [],
   "source": [
    "#If there is suspicion that the missing value is not at random then capturing that information is important\n",
    "#therefore we have to make disturbuition for the data before deciding "
   ]
  },
  {
   "cell_type": "code",
   "execution_count": 16,
   "metadata": {},
   "outputs": [
    {
     "data": {
      "text/plain": [
       "(119153, 4)"
      ]
     },
     "execution_count": 16,
     "metadata": {},
     "output_type": "execute_result"
    }
   ],
   "source": [
    "df.shape"
   ]
  },
  {
   "cell_type": "code",
   "execution_count": 17,
   "metadata": {},
   "outputs": [
    {
     "data": {
      "text/plain": [
       "<matplotlib.axes._subplots.AxesSubplot at 0x2bfe290c808>"
      ]
     },
     "execution_count": 17,
     "metadata": {},
     "output_type": "execute_result"
    },
    {
     "data": {
      "image/png": "[encoded data removed]",
      "text/plain": [
       "<Figure size 432x288 with 1 Axes>"
      ]
     },
     "metadata": {
      "needs_background": "light"
     },
     "output_type": "display_data"
    }
   ],
   "source": [
    "df.age.hist(bins=50)"
   ]
  },
  {
   "cell_type": "code",
   "execution_count": 18,
   "metadata": {},
   "outputs": [
    {
     "data": {
      "text/plain": [
       "<matplotlib.axes._subplots.AxesSubplot at 0x2bfe33210c8>"
      ]
     },
     "execution_count": 18,
     "metadata": {},
     "output_type": "execute_result"
    },
    {
     "data": {
      "image/png": "[encoded data removed]",
      "text/plain": [
       "<Figure size 432x288 with 1 Axes>"
      ]
     },
     "metadata": {
      "needs_background": "light"
     },
     "output_type": "display_data"
    }
   ],
   "source": [
    "df.height.hist(bins=50)"
   ]
  },
  {
   "cell_type": "code",
   "execution_count": 19,
   "metadata": {},
   "outputs": [
    {
     "data": {
      "text/plain": [
       "<matplotlib.axes._subplots.AxesSubplot at 0x2bfe3443448>"
      ]
     },
     "execution_count": 19,
     "metadata": {},
     "output_type": "execute_result"
    },
    {
     "data": {
      "image/png": "[encoded data removed]",
      "text/plain": [
       "<Figure size 432x288 with 1 Axes>"
      ]
     },
     "metadata": {
      "needs_background": "light"
     },
     "output_type": "display_data"
    }
   ],
   "source": [
    "df.weight.hist(bins=50)"
   ]
  },
  {
   "cell_type": "code",
   "execution_count": 20,
   "metadata": {},
   "outputs": [],
   "source": [
    "#Next step is to work with nun numerical values (size)\n",
    "#This would be by using LabelEncoder"
   ]
  },
  {
   "cell_type": "code",
   "execution_count": 21,
   "metadata": {},
   "outputs": [],
   "source": [
    "from sklearn.preprocessing import LabelEncoder"
   ]
  },
  {
   "cell_type": "code",
   "execution_count": 22,
   "metadata": {},
   "outputs": [
    {
     "data": {
      "text/html": [
       "<div>\n",
       "<style scoped>\n",
       "    .dataframe tbody tr th:only-of-type {\n",
       "        vertical-align: middle;\n",
       "    }\n",
       "\n",
       "    .dataframe tbody tr th {\n",
       "        vertical-align: top;\n",
       "    }\n",
       "\n",
       "    .dataframe thead th {\n",
       "        text-align: right;\n",
       "    }\n",
       "</style>\n",
       "<table border=\"1\" class=\"dataframe\">\n",
       "  <thead>\n",
       "    <tr style=\"text-align: right;\">\n",
       "      <th></th>\n",
       "      <th>weight</th>\n",
       "      <th>age</th>\n",
       "      <th>height</th>\n",
       "      <th>size</th>\n",
       "    </tr>\n",
       "  </thead>\n",
       "  <tbody>\n",
       "    <tr>\n",
       "      <th>0</th>\n",
       "      <td>62</td>\n",
       "      <td>28.0</td>\n",
       "      <td>172.72</td>\n",
       "      <td>3</td>\n",
       "    </tr>\n",
       "    <tr>\n",
       "      <th>1</th>\n",
       "      <td>59</td>\n",
       "      <td>36.0</td>\n",
       "      <td>167.64</td>\n",
       "      <td>0</td>\n",
       "    </tr>\n",
       "    <tr>\n",
       "      <th>2</th>\n",
       "      <td>61</td>\n",
       "      <td>34.0</td>\n",
       "      <td>165.10</td>\n",
       "      <td>1</td>\n",
       "    </tr>\n",
       "    <tr>\n",
       "      <th>3</th>\n",
       "      <td>65</td>\n",
       "      <td>27.0</td>\n",
       "      <td>175.26</td>\n",
       "      <td>0</td>\n",
       "    </tr>\n",
       "    <tr>\n",
       "      <th>4</th>\n",
       "      <td>62</td>\n",
       "      <td>45.0</td>\n",
       "      <td>172.72</td>\n",
       "      <td>1</td>\n",
       "    </tr>\n",
       "    <tr>\n",
       "      <th>5</th>\n",
       "      <td>50</td>\n",
       "      <td>27.0</td>\n",
       "      <td>160.02</td>\n",
       "      <td>2</td>\n",
       "    </tr>\n",
       "    <tr>\n",
       "      <th>6</th>\n",
       "      <td>53</td>\n",
       "      <td>65.0</td>\n",
       "      <td>160.02</td>\n",
       "      <td>1</td>\n",
       "    </tr>\n",
       "    <tr>\n",
       "      <th>7</th>\n",
       "      <td>51</td>\n",
       "      <td>33.0</td>\n",
       "      <td>160.02</td>\n",
       "      <td>5</td>\n",
       "    </tr>\n",
       "    <tr>\n",
       "      <th>8</th>\n",
       "      <td>54</td>\n",
       "      <td>26.0</td>\n",
       "      <td>167.64</td>\n",
       "      <td>1</td>\n",
       "    </tr>\n",
       "    <tr>\n",
       "      <th>9</th>\n",
       "      <td>53</td>\n",
       "      <td>32.0</td>\n",
       "      <td>165.10</td>\n",
       "      <td>2</td>\n",
       "    </tr>\n",
       "  </tbody>\n",
       "</table>\n",
       "</div>"
      ],
      "text/plain": [
       "   weight   age  height  size\n",
       "0      62  28.0  172.72     3\n",
       "1      59  36.0  167.64     0\n",
       "2      61  34.0  165.10     1\n",
       "3      65  27.0  175.26     0\n",
       "4      62  45.0  172.72     1\n",
       "5      50  27.0  160.02     2\n",
       "6      53  65.0  160.02     1\n",
       "7      51  33.0  160.02     5\n",
       "8      54  26.0  167.64     1\n",
       "9      53  32.0  165.10     2"
      ]
     },
     "execution_count": 22,
     "metadata": {},
     "output_type": "execute_result"
    }
   ],
   "source": [
    "# label_encoder object\n",
    "label_encoder =LabelEncoder()\n",
    "# Encode labels in column. \n",
    "df['size']= label_encoder.fit_transform(df['size'])\n",
    "df.head(10)"
   ]
  },
  {
   "cell_type": "code",
   "execution_count": 23,
   "metadata": {},
   "outputs": [
    {
     "data": {
      "text/html": [
       "<div>\n",
       "<style scoped>\n",
       "    .dataframe tbody tr th:only-of-type {\n",
       "        vertical-align: middle;\n",
       "    }\n",
       "\n",
       "    .dataframe tbody tr th {\n",
       "        vertical-align: top;\n",
       "    }\n",
       "\n",
       "    .dataframe thead th {\n",
       "        text-align: right;\n",
       "    }\n",
       "</style>\n",
       "<table border=\"1\" class=\"dataframe\">\n",
       "  <thead>\n",
       "    <tr style=\"text-align: right;\">\n",
       "      <th></th>\n",
       "      <th>weight</th>\n",
       "      <th>age</th>\n",
       "      <th>height</th>\n",
       "      <th>size</th>\n",
       "    </tr>\n",
       "  </thead>\n",
       "  <tbody>\n",
       "    <tr>\n",
       "      <th>119729</th>\n",
       "      <td>63</td>\n",
       "      <td>42.0</td>\n",
       "      <td>175.26</td>\n",
       "      <td>1</td>\n",
       "    </tr>\n",
       "    <tr>\n",
       "      <th>119730</th>\n",
       "      <td>45</td>\n",
       "      <td>29.0</td>\n",
       "      <td>154.94</td>\n",
       "      <td>2</td>\n",
       "    </tr>\n",
       "    <tr>\n",
       "      <th>119731</th>\n",
       "      <td>61</td>\n",
       "      <td>31.0</td>\n",
       "      <td>172.72</td>\n",
       "      <td>1</td>\n",
       "    </tr>\n",
       "    <tr>\n",
       "      <th>119732</th>\n",
       "      <td>74</td>\n",
       "      <td>31.0</td>\n",
       "      <td>167.64</td>\n",
       "      <td>3</td>\n",
       "    </tr>\n",
       "    <tr>\n",
       "      <th>119733</th>\n",
       "      <td>70</td>\n",
       "      <td>30.0</td>\n",
       "      <td>167.64</td>\n",
       "      <td>3</td>\n",
       "    </tr>\n",
       "  </tbody>\n",
       "</table>\n",
       "</div>"
      ],
      "text/plain": [
       "        weight   age  height  size\n",
       "119729      63  42.0  175.26     1\n",
       "119730      45  29.0  154.94     2\n",
       "119731      61  31.0  172.72     1\n",
       "119732      74  31.0  167.64     3\n",
       "119733      70  30.0  167.64     3"
      ]
     },
     "execution_count": 23,
     "metadata": {},
     "output_type": "execute_result"
    }
   ],
   "source": [
    "df.tail()"
   ]
  },
  {
   "cell_type": "code",
   "execution_count": 24,
   "metadata": {},
   "outputs": [],
   "source": [
    "#Next step is to detect and handle outliers "
   ]
  },
  {
   "cell_type": "code",
   "execution_count": 26,
   "metadata": {},
   "outputs": [
    {
     "data": {
      "text/plain": [
       "<seaborn.axisgrid.PairGrid at 0x1d219840ac8>"
      ]
     },
     "execution_count": 26,
     "metadata": {},
     "output_type": "execute_result"
    },
    {
     "data": {
      "image/png": "[encoded data removed]",
      "text/plain": [
       "<Figure size 720x720 with 20 Axes>"
      ]
     },
     "metadata": {
      "needs_background": "light"
     },
     "output_type": "display_data"
    }
   ],
   "source": [
    "sns.pairplot(df)"
   ]
  },
  {
   "cell_type": "code",
   "execution_count": 25,
   "metadata": {},
   "outputs": [
    {
     "data": {
      "text/plain": [
       "<matplotlib.axes._subplots.AxesSubplot at 0x2bfe3624fc8>"
      ]
     },
     "execution_count": 25,
     "metadata": {},
     "output_type": "execute_result"
    },
    {
     "data": {
      "image/png": "[encoded data removed]",
      "text/plain": [
       "<Figure size 432x288 with 1 Axes>"
      ]
     },
     "metadata": {
      "needs_background": "light"
     },
     "output_type": "display_data"
    }
   ],
   "source": [
    "sns.distplot(df['size'],color='m', kde=False, bins=30)"
   ]
  },
  {
   "cell_type": "code",
   "execution_count": 26,
   "metadata": {},
   "outputs": [
    {
     "data": {
      "text/plain": [
       "476612"
      ]
     },
     "execution_count": 26,
     "metadata": {},
     "output_type": "execute_result"
    }
   ],
   "source": [
    "df.size"
   ]
  },
  {
   "cell_type": "code",
   "execution_count": 27,
   "metadata": {},
   "outputs": [
    {
     "data": {
      "text/plain": [
       "1    29575\n",
       "2    21829\n",
       "6    21259\n",
       "3    19033\n",
       "0    17481\n",
       "5     9907\n",
       "4       69\n",
       "Name: size, dtype: int64"
      ]
     },
     "execution_count": 27,
     "metadata": {},
     "output_type": "execute_result"
    }
   ],
   "source": [
    "df[\"size\"].value_counts()"
   ]
  },
  {
   "cell_type": "code",
   "execution_count": 30,
   "metadata": {},
   "outputs": [
    {
     "ename": "SyntaxError",
     "evalue": "invalid syntax (<ipython-input-30-3929d977270a>, line 2)",
     "output_type": "error",
     "traceback": [
      "\u001b[1;36m  File \u001b[1;32m\"<ipython-input-30-3929d977270a>\"\u001b[1;36m, line \u001b[1;32m2\u001b[0m\n\u001b[1;33m    M       29712\u001b[0m\n\u001b[1;37m                ^\u001b[0m\n\u001b[1;31mSyntaxError\u001b[0m\u001b[1;31m:\u001b[0m invalid syntax\n"
     ]
    }
   ],
   "source": [
    "#The results before the coversion.\n",
    "M       29712\n",
    "S       21924\n",
    "XXXL    21359\n",
    "XL      19119\n",
    "L       17587\n",
    "XXS      9964\n",
    "XXL        69"
   ]
  },
  {
   "cell_type": "code",
   "execution_count": 28,
   "metadata": {},
   "outputs": [
    {
     "data": {
      "text/plain": [
       "<matplotlib.axes._subplots.AxesSubplot at 0x2bfe36d5308>"
      ]
     },
     "execution_count": 28,
     "metadata": {},
     "output_type": "execute_result"
    },
    {
     "data": {
      "image/png": "[encoded data removed]",
      "text/plain": [
       "<Figure size 432x288 with 1 Axes>"
      ]
     },
     "metadata": {
      "needs_background": "light"
     },
     "output_type": "display_data"
    }
   ],
   "source": [
    "sns.distplot(df['height'],color='r', kde=False, bins=30)"
   ]
  },
  {
   "cell_type": "code",
   "execution_count": 29,
   "metadata": {},
   "outputs": [
    {
     "data": {
      "text/plain": [
       "<matplotlib.axes._subplots.AxesSubplot at 0x2bfe378fd88>"
      ]
     },
     "execution_count": 29,
     "metadata": {},
     "output_type": "execute_result"
    },
    {
     "data": {
      "image/png": "[encoded data removed]",
      "text/plain": [
       "<Figure size 432x288 with 1 Axes>"
      ]
     },
     "metadata": {
      "needs_background": "light"
     },
     "output_type": "display_data"
    }
   ],
   "source": [
    "sns.distplot(df['weight'],color='g', kde=False, bins=30)"
   ]
  },
  {
   "cell_type": "code",
   "execution_count": 30,
   "metadata": {},
   "outputs": [
    {
     "data": {
      "text/plain": [
       "<matplotlib.axes._subplots.AxesSubplot at 0x2bfe480e288>"
      ]
     },
     "execution_count": 30,
     "metadata": {},
     "output_type": "execute_result"
    },
    {
     "data": {
      "image/png": "[encoded data removed]",
      "text/plain": [
       "<Figure size 432x288 with 1 Axes>"
      ]
     },
     "metadata": {
      "needs_background": "light"
     },
     "output_type": "display_data"
    }
   ],
   "source": [
    "sns.distplot(df['age'],color='b', kde=False, bins=30)"
   ]
  },
  {
   "cell_type": "code",
   "execution_count": 31,
   "metadata": {},
   "outputs": [
    {
     "data": {
      "text/plain": [
       "<matplotlib.axes._subplots.AxesSubplot at 0x2bfe489f3c8>"
      ]
     },
     "execution_count": 31,
     "metadata": {},
     "output_type": "execute_result"
    },
    {
     "data": {
      "image/png": "[encoded data removed]",
      "text/plain": [
       "<Figure size 432x288 with 1 Axes>"
      ]
     },
     "metadata": {
      "needs_background": "light"
     },
     "output_type": "display_data"
    }
   ],
   "source": [
    "#We have to use Zscore and detect the 4 quartiel, in order to get rid of the outliers\n",
    "#1st we use boxplot \n",
    "sns.boxplot(df['height'])"
   ]
  },
  {
   "cell_type": "code",
   "execution_count": 32,
   "metadata": {},
   "outputs": [
    {
     "data": {
      "text/plain": [
       "<matplotlib.axes._subplots.AxesSubplot at 0x2bfe4942448>"
      ]
     },
     "execution_count": 32,
     "metadata": {},
     "output_type": "execute_result"
    },
    {
     "data": {
      "image/png": "[encoded data removed]",
      "text/plain": [
       "<Figure size 432x288 with 1 Axes>"
      ]
     },
     "metadata": {
      "needs_background": "light"
     },
     "output_type": "display_data"
    }
   ],
   "source": [
    "sns.boxplot(df['weight'])"
   ]
  },
  {
   "cell_type": "code",
   "execution_count": 33,
   "metadata": {},
   "outputs": [
    {
     "data": {
      "text/plain": [
       "<matplotlib.axes._subplots.AxesSubplot at 0x2bfe49b2508>"
      ]
     },
     "execution_count": 33,
     "metadata": {},
     "output_type": "execute_result"
    },
    {
     "data": {
      "image/png": "[encoded data removed]",
      "text/plain": [
       "<Figure size 432x288 with 1 Axes>"
      ]
     },
     "metadata": {
      "needs_background": "light"
     },
     "output_type": "display_data"
    }
   ],
   "source": [
    "sns.boxplot(df['age'])"
   ]
  },
  {
   "cell_type": "code",
   "execution_count": 34,
   "metadata": {},
   "outputs": [
    {
     "data": {
      "text/html": [
       "<div>\n",
       "<style scoped>\n",
       "    .dataframe tbody tr th:only-of-type {\n",
       "        vertical-align: middle;\n",
       "    }\n",
       "\n",
       "    .dataframe tbody tr th {\n",
       "        vertical-align: top;\n",
       "    }\n",
       "\n",
       "    .dataframe thead th {\n",
       "        text-align: right;\n",
       "    }\n",
       "</style>\n",
       "<table border=\"1\" class=\"dataframe\">\n",
       "  <thead>\n",
       "    <tr style=\"text-align: right;\">\n",
       "      <th></th>\n",
       "      <th>weight</th>\n",
       "      <th>age</th>\n",
       "      <th>height</th>\n",
       "    </tr>\n",
       "  </thead>\n",
       "  <tbody>\n",
       "    <tr>\n",
       "      <th>0</th>\n",
       "      <td>62</td>\n",
       "      <td>28.0</td>\n",
       "      <td>172.72</td>\n",
       "    </tr>\n",
       "    <tr>\n",
       "      <th>1</th>\n",
       "      <td>59</td>\n",
       "      <td>36.0</td>\n",
       "      <td>167.64</td>\n",
       "    </tr>\n",
       "    <tr>\n",
       "      <th>2</th>\n",
       "      <td>61</td>\n",
       "      <td>34.0</td>\n",
       "      <td>165.10</td>\n",
       "    </tr>\n",
       "    <tr>\n",
       "      <th>3</th>\n",
       "      <td>65</td>\n",
       "      <td>27.0</td>\n",
       "      <td>175.26</td>\n",
       "    </tr>\n",
       "    <tr>\n",
       "      <th>4</th>\n",
       "      <td>62</td>\n",
       "      <td>45.0</td>\n",
       "      <td>172.72</td>\n",
       "    </tr>\n",
       "    <tr>\n",
       "      <th>...</th>\n",
       "      <td>...</td>\n",
       "      <td>...</td>\n",
       "      <td>...</td>\n",
       "    </tr>\n",
       "    <tr>\n",
       "      <th>119729</th>\n",
       "      <td>63</td>\n",
       "      <td>42.0</td>\n",
       "      <td>175.26</td>\n",
       "    </tr>\n",
       "    <tr>\n",
       "      <th>119730</th>\n",
       "      <td>45</td>\n",
       "      <td>29.0</td>\n",
       "      <td>154.94</td>\n",
       "    </tr>\n",
       "    <tr>\n",
       "      <th>119731</th>\n",
       "      <td>61</td>\n",
       "      <td>31.0</td>\n",
       "      <td>172.72</td>\n",
       "    </tr>\n",
       "    <tr>\n",
       "      <th>119732</th>\n",
       "      <td>74</td>\n",
       "      <td>31.0</td>\n",
       "      <td>167.64</td>\n",
       "    </tr>\n",
       "    <tr>\n",
       "      <th>119733</th>\n",
       "      <td>70</td>\n",
       "      <td>30.0</td>\n",
       "      <td>167.64</td>\n",
       "    </tr>\n",
       "  </tbody>\n",
       "</table>\n",
       "<p>119153 rows × 3 columns</p>\n",
       "</div>"
      ],
      "text/plain": [
       "        weight   age  height\n",
       "0           62  28.0  172.72\n",
       "1           59  36.0  167.64\n",
       "2           61  34.0  165.10\n",
       "3           65  27.0  175.26\n",
       "4           62  45.0  172.72\n",
       "...        ...   ...     ...\n",
       "119729      63  42.0  175.26\n",
       "119730      45  29.0  154.94\n",
       "119731      61  31.0  172.72\n",
       "119732      74  31.0  167.64\n",
       "119733      70  30.0  167.64\n",
       "\n",
       "[119153 rows x 3 columns]"
      ]
     },
     "execution_count": 34,
     "metadata": {},
     "output_type": "execute_result"
    }
   ],
   "source": [
    "#Z score = (x -mean) / std. deviation\n",
    "x=df[['weight','age','height']]\n",
    "x"
   ]
  },
  {
   "cell_type": "code",
   "execution_count": 35,
   "metadata": {},
   "outputs": [
    {
     "data": {
      "text/html": [
       "<div>\n",
       "<style scoped>\n",
       "    .dataframe tbody tr th:only-of-type {\n",
       "        vertical-align: middle;\n",
       "    }\n",
       "\n",
       "    .dataframe tbody tr th {\n",
       "        vertical-align: top;\n",
       "    }\n",
       "\n",
       "    .dataframe thead th {\n",
       "        text-align: right;\n",
       "    }\n",
       "</style>\n",
       "<table border=\"1\" class=\"dataframe\">\n",
       "  <thead>\n",
       "    <tr style=\"text-align: right;\">\n",
       "      <th></th>\n",
       "      <th>size</th>\n",
       "    </tr>\n",
       "  </thead>\n",
       "  <tbody>\n",
       "    <tr>\n",
       "      <th>0</th>\n",
       "      <td>3</td>\n",
       "    </tr>\n",
       "    <tr>\n",
       "      <th>1</th>\n",
       "      <td>0</td>\n",
       "    </tr>\n",
       "    <tr>\n",
       "      <th>2</th>\n",
       "      <td>1</td>\n",
       "    </tr>\n",
       "    <tr>\n",
       "      <th>3</th>\n",
       "      <td>0</td>\n",
       "    </tr>\n",
       "    <tr>\n",
       "      <th>4</th>\n",
       "      <td>1</td>\n",
       "    </tr>\n",
       "    <tr>\n",
       "      <th>...</th>\n",
       "      <td>...</td>\n",
       "    </tr>\n",
       "    <tr>\n",
       "      <th>119729</th>\n",
       "      <td>1</td>\n",
       "    </tr>\n",
       "    <tr>\n",
       "      <th>119730</th>\n",
       "      <td>2</td>\n",
       "    </tr>\n",
       "    <tr>\n",
       "      <th>119731</th>\n",
       "      <td>1</td>\n",
       "    </tr>\n",
       "    <tr>\n",
       "      <th>119732</th>\n",
       "      <td>3</td>\n",
       "    </tr>\n",
       "    <tr>\n",
       "      <th>119733</th>\n",
       "      <td>3</td>\n",
       "    </tr>\n",
       "  </tbody>\n",
       "</table>\n",
       "<p>119153 rows × 1 columns</p>\n",
       "</div>"
      ],
      "text/plain": [
       "        size\n",
       "0          3\n",
       "1          0\n",
       "2          1\n",
       "3          0\n",
       "4          1\n",
       "...      ...\n",
       "119729     1\n",
       "119730     2\n",
       "119731     1\n",
       "119732     3\n",
       "119733     3\n",
       "\n",
       "[119153 rows x 1 columns]"
      ]
     },
     "execution_count": 35,
     "metadata": {},
     "output_type": "execute_result"
    }
   ],
   "source": [
    "y=df[['size']]\n",
    "y"
   ]
  },
  {
   "cell_type": "code",
   "execution_count": 36,
   "metadata": {},
   "outputs": [
    {
     "name": "stdout",
     "output_type": "stream",
     "text": [
      "mean of the data is weight     61.756095\n",
      "age        34.032714\n",
      "height    165.807068\n",
      "size        2.582369\n",
      "dtype: float64\n",
      "std of the data is weight    9.942835\n",
      "age       8.148268\n",
      "height    6.737769\n",
      "size      2.064205\n",
      "dtype: float64\n"
     ]
    }
   ],
   "source": [
    "#data = [1, 2, 2, 2, 3, 1, 1, 15, 2, 2, 2, 3, 1, 1, 2]\n",
    "#mean = np.mean(data)\n",
    "#std = np.std(data)\n",
    "#print('mean of the dataset is', mean)\n",
    "#print('std. deviation is', std)\n",
    "mean=np.mean(df)\n",
    "std=np.std(df)\n",
    "print('mean of the data is',mean)\n",
    "print('std of the data is',std)"
   ]
  },
  {
   "cell_type": "code",
   "execution_count": 37,
   "metadata": {},
   "outputs": [
    {
     "data": {
      "text/html": [
       "<div>\n",
       "<style scoped>\n",
       "    .dataframe tbody tr th:only-of-type {\n",
       "        vertical-align: middle;\n",
       "    }\n",
       "\n",
       "    .dataframe tbody tr th {\n",
       "        vertical-align: top;\n",
       "    }\n",
       "\n",
       "    .dataframe thead th {\n",
       "        text-align: right;\n",
       "    }\n",
       "</style>\n",
       "<table border=\"1\" class=\"dataframe\">\n",
       "  <thead>\n",
       "    <tr style=\"text-align: right;\">\n",
       "      <th></th>\n",
       "      <th>weight</th>\n",
       "      <th>age</th>\n",
       "      <th>height</th>\n",
       "      <th>size</th>\n",
       "    </tr>\n",
       "  </thead>\n",
       "  <tbody>\n",
       "    <tr>\n",
       "      <th>count</th>\n",
       "      <td>119153.000000</td>\n",
       "      <td>119153.000000</td>\n",
       "      <td>119153.000000</td>\n",
       "      <td>119153.000000</td>\n",
       "    </tr>\n",
       "    <tr>\n",
       "      <th>mean</th>\n",
       "      <td>61.756095</td>\n",
       "      <td>34.032714</td>\n",
       "      <td>165.807068</td>\n",
       "      <td>2.582369</td>\n",
       "    </tr>\n",
       "    <tr>\n",
       "      <th>std</th>\n",
       "      <td>9.942877</td>\n",
       "      <td>8.148302</td>\n",
       "      <td>6.737797</td>\n",
       "      <td>2.064213</td>\n",
       "    </tr>\n",
       "    <tr>\n",
       "      <th>min</th>\n",
       "      <td>22.000000</td>\n",
       "      <td>0.000000</td>\n",
       "      <td>137.160000</td>\n",
       "      <td>0.000000</td>\n",
       "    </tr>\n",
       "    <tr>\n",
       "      <th>25%</th>\n",
       "      <td>55.000000</td>\n",
       "      <td>29.000000</td>\n",
       "      <td>160.020000</td>\n",
       "      <td>1.000000</td>\n",
       "    </tr>\n",
       "    <tr>\n",
       "      <th>50%</th>\n",
       "      <td>61.000000</td>\n",
       "      <td>32.000000</td>\n",
       "      <td>165.100000</td>\n",
       "      <td>2.000000</td>\n",
       "    </tr>\n",
       "    <tr>\n",
       "      <th>75%</th>\n",
       "      <td>67.000000</td>\n",
       "      <td>37.000000</td>\n",
       "      <td>170.180000</td>\n",
       "      <td>5.000000</td>\n",
       "    </tr>\n",
       "    <tr>\n",
       "      <th>max</th>\n",
       "      <td>136.000000</td>\n",
       "      <td>117.000000</td>\n",
       "      <td>193.040000</td>\n",
       "      <td>6.000000</td>\n",
       "    </tr>\n",
       "  </tbody>\n",
       "</table>\n",
       "</div>"
      ],
      "text/plain": [
       "              weight            age         height           size\n",
       "count  119153.000000  119153.000000  119153.000000  119153.000000\n",
       "mean       61.756095      34.032714     165.807068       2.582369\n",
       "std         9.942877       8.148302       6.737797       2.064213\n",
       "min        22.000000       0.000000     137.160000       0.000000\n",
       "25%        55.000000      29.000000     160.020000       1.000000\n",
       "50%        61.000000      32.000000     165.100000       2.000000\n",
       "75%        67.000000      37.000000     170.180000       5.000000\n",
       "max       136.000000     117.000000     193.040000       6.000000"
      ]
     },
     "execution_count": 37,
     "metadata": {},
     "output_type": "execute_result"
    }
   ],
   "source": [
    "df.describe()"
   ]
  },
  {
   "cell_type": "code",
   "execution_count": 38,
   "metadata": {},
   "outputs": [
    {
     "name": "stdout",
     "output_type": "stream",
     "text": [
      "upper_limit_h is 186.02045849676333\n",
      "lower_limit_h is 145.59367727828825\n"
     ]
    }
   ],
   "source": [
    "#Z score = (x -mean) / std. deviation\n",
    "#Hier detecting outliers by std only \n",
    "upper_limit_h=df.height.mean() + 3*df.height.std()\n",
    "print('upper_limit_h is',upper_limit_h)\n",
    "lower_limit_h=df.height.mean() - 3*df.height.std()\n",
    "print('lower_limit_h is',lower_limit_h)"
   ]
  },
  {
   "cell_type": "code",
   "execution_count": 39,
   "metadata": {},
   "outputs": [
    {
     "name": "stdout",
     "output_type": "stream",
     "text": [
      "upper_limit_w 91.58472513278963\n",
      "lower_limit_w 31.927465076437166\n"
     ]
    }
   ],
   "source": [
    "upper_limit_w=df.weight.mean() + 3*df.weight.std()\n",
    "print('upper_limit_w',upper_limit_w)\n",
    "lower_limit_w=df.weight.mean() - 3*df.weight.std()\n",
    "print('lower_limit_w',lower_limit_w)"
   ]
  },
  {
   "cell_type": "code",
   "execution_count": 40,
   "metadata": {},
   "outputs": [
    {
     "name": "stdout",
     "output_type": "stream",
     "text": [
      "upper_limit_a is 58.47762060274043\n",
      "lower_limit_a is 9.587807879966672\n"
     ]
    }
   ],
   "source": [
    "upper_limit_a=df.age.mean() + 3*df.age.std()\n",
    "print('upper_limit_a is', upper_limit_a)\n",
    "lower_limit_a=df.age.mean() - 3*df.age.std()\n",
    "print('lower_limit_a is', lower_limit_a)"
   ]
  },
  {
   "cell_type": "code",
   "execution_count": 41,
   "metadata": {},
   "outputs": [
    {
     "data": {
      "text/html": [
       "<div>\n",
       "<style scoped>\n",
       "    .dataframe tbody tr th:only-of-type {\n",
       "        vertical-align: middle;\n",
       "    }\n",
       "\n",
       "    .dataframe tbody tr th {\n",
       "        vertical-align: top;\n",
       "    }\n",
       "\n",
       "    .dataframe thead th {\n",
       "        text-align: right;\n",
       "    }\n",
       "</style>\n",
       "<table border=\"1\" class=\"dataframe\">\n",
       "  <thead>\n",
       "    <tr style=\"text-align: right;\">\n",
       "      <th></th>\n",
       "      <th>weight</th>\n",
       "      <th>age</th>\n",
       "      <th>height</th>\n",
       "      <th>size</th>\n",
       "    </tr>\n",
       "  </thead>\n",
       "  <tbody>\n",
       "    <tr>\n",
       "      <th>6</th>\n",
       "      <td>53</td>\n",
       "      <td>65.0</td>\n",
       "      <td>160.02</td>\n",
       "      <td>1</td>\n",
       "    </tr>\n",
       "    <tr>\n",
       "      <th>80</th>\n",
       "      <td>61</td>\n",
       "      <td>69.0</td>\n",
       "      <td>154.94</td>\n",
       "      <td>6</td>\n",
       "    </tr>\n",
       "    <tr>\n",
       "      <th>117</th>\n",
       "      <td>81</td>\n",
       "      <td>59.0</td>\n",
       "      <td>162.56</td>\n",
       "      <td>6</td>\n",
       "    </tr>\n",
       "    <tr>\n",
       "      <th>130</th>\n",
       "      <td>90</td>\n",
       "      <td>59.0</td>\n",
       "      <td>162.56</td>\n",
       "      <td>6</td>\n",
       "    </tr>\n",
       "    <tr>\n",
       "      <th>390</th>\n",
       "      <td>46</td>\n",
       "      <td>59.0</td>\n",
       "      <td>157.48</td>\n",
       "      <td>5</td>\n",
       "    </tr>\n",
       "    <tr>\n",
       "      <th>...</th>\n",
       "      <td>...</td>\n",
       "      <td>...</td>\n",
       "      <td>...</td>\n",
       "      <td>...</td>\n",
       "    </tr>\n",
       "    <tr>\n",
       "      <th>119425</th>\n",
       "      <td>58</td>\n",
       "      <td>59.0</td>\n",
       "      <td>157.48</td>\n",
       "      <td>3</td>\n",
       "    </tr>\n",
       "    <tr>\n",
       "      <th>119515</th>\n",
       "      <td>72</td>\n",
       "      <td>69.0</td>\n",
       "      <td>167.64</td>\n",
       "      <td>6</td>\n",
       "    </tr>\n",
       "    <tr>\n",
       "      <th>119538</th>\n",
       "      <td>59</td>\n",
       "      <td>63.0</td>\n",
       "      <td>165.10</td>\n",
       "      <td>6</td>\n",
       "    </tr>\n",
       "    <tr>\n",
       "      <th>119622</th>\n",
       "      <td>56</td>\n",
       "      <td>62.0</td>\n",
       "      <td>162.56</td>\n",
       "      <td>1</td>\n",
       "    </tr>\n",
       "    <tr>\n",
       "      <th>119646</th>\n",
       "      <td>61</td>\n",
       "      <td>59.0</td>\n",
       "      <td>167.64</td>\n",
       "      <td>0</td>\n",
       "    </tr>\n",
       "  </tbody>\n",
       "</table>\n",
       "<p>1458 rows × 4 columns</p>\n",
       "</div>"
      ],
      "text/plain": [
       "        weight   age  height  size\n",
       "6           53  65.0  160.02     1\n",
       "80          61  69.0  154.94     6\n",
       "117         81  59.0  162.56     6\n",
       "130         90  59.0  162.56     6\n",
       "390         46  59.0  157.48     5\n",
       "...        ...   ...     ...   ...\n",
       "119425      58  59.0  157.48     3\n",
       "119515      72  69.0  167.64     6\n",
       "119538      59  63.0  165.10     6\n",
       "119622      56  62.0  162.56     1\n",
       "119646      61  59.0  167.64     0\n",
       "\n",
       "[1458 rows x 4 columns]"
      ]
     },
     "execution_count": 41,
     "metadata": {},
     "output_type": "execute_result"
    }
   ],
   "source": [
    "df[(df.age>upper_limit_a) | (df.age<lower_limit_a)]"
   ]
  },
  {
   "cell_type": "code",
   "execution_count": 42,
   "metadata": {},
   "outputs": [
    {
     "data": {
      "text/html": [
       "<div>\n",
       "<style scoped>\n",
       "    .dataframe tbody tr th:only-of-type {\n",
       "        vertical-align: middle;\n",
       "    }\n",
       "\n",
       "    .dataframe tbody tr th {\n",
       "        vertical-align: top;\n",
       "    }\n",
       "\n",
       "    .dataframe thead th {\n",
       "        text-align: right;\n",
       "    }\n",
       "</style>\n",
       "<table border=\"1\" class=\"dataframe\">\n",
       "  <thead>\n",
       "    <tr style=\"text-align: right;\">\n",
       "      <th></th>\n",
       "      <th>weight</th>\n",
       "      <th>age</th>\n",
       "      <th>height</th>\n",
       "      <th>size</th>\n",
       "      <th>zscore</th>\n",
       "    </tr>\n",
       "  </thead>\n",
       "  <tbody>\n",
       "    <tr>\n",
       "      <th>0</th>\n",
       "      <td>62</td>\n",
       "      <td>28.0</td>\n",
       "      <td>172.72</td>\n",
       "      <td>3</td>\n",
       "      <td>1.025993</td>\n",
       "    </tr>\n",
       "    <tr>\n",
       "      <th>1</th>\n",
       "      <td>59</td>\n",
       "      <td>36.0</td>\n",
       "      <td>167.64</td>\n",
       "      <td>0</td>\n",
       "      <td>0.272037</td>\n",
       "    </tr>\n",
       "    <tr>\n",
       "      <th>2</th>\n",
       "      <td>61</td>\n",
       "      <td>34.0</td>\n",
       "      <td>165.10</td>\n",
       "      <td>1</td>\n",
       "      <td>-0.104941</td>\n",
       "    </tr>\n",
       "    <tr>\n",
       "      <th>3</th>\n",
       "      <td>65</td>\n",
       "      <td>27.0</td>\n",
       "      <td>175.26</td>\n",
       "      <td>0</td>\n",
       "      <td>1.402971</td>\n",
       "    </tr>\n",
       "    <tr>\n",
       "      <th>4</th>\n",
       "      <td>62</td>\n",
       "      <td>45.0</td>\n",
       "      <td>172.72</td>\n",
       "      <td>1</td>\n",
       "      <td>1.025993</td>\n",
       "    </tr>\n",
       "    <tr>\n",
       "      <th>5</th>\n",
       "      <td>50</td>\n",
       "      <td>27.0</td>\n",
       "      <td>160.02</td>\n",
       "      <td>2</td>\n",
       "      <td>-0.858896</td>\n",
       "    </tr>\n",
       "    <tr>\n",
       "      <th>6</th>\n",
       "      <td>53</td>\n",
       "      <td>65.0</td>\n",
       "      <td>160.02</td>\n",
       "      <td>1</td>\n",
       "      <td>-0.858896</td>\n",
       "    </tr>\n",
       "    <tr>\n",
       "      <th>7</th>\n",
       "      <td>51</td>\n",
       "      <td>33.0</td>\n",
       "      <td>160.02</td>\n",
       "      <td>5</td>\n",
       "      <td>-0.858896</td>\n",
       "    </tr>\n",
       "    <tr>\n",
       "      <th>8</th>\n",
       "      <td>54</td>\n",
       "      <td>26.0</td>\n",
       "      <td>167.64</td>\n",
       "      <td>1</td>\n",
       "      <td>0.272037</td>\n",
       "    </tr>\n",
       "    <tr>\n",
       "      <th>9</th>\n",
       "      <td>53</td>\n",
       "      <td>32.0</td>\n",
       "      <td>165.10</td>\n",
       "      <td>2</td>\n",
       "      <td>-0.104941</td>\n",
       "    </tr>\n",
       "  </tbody>\n",
       "</table>\n",
       "</div>"
      ],
      "text/plain": [
       "   weight   age  height  size    zscore\n",
       "0      62  28.0  172.72     3  1.025993\n",
       "1      59  36.0  167.64     0  0.272037\n",
       "2      61  34.0  165.10     1 -0.104941\n",
       "3      65  27.0  175.26     0  1.402971\n",
       "4      62  45.0  172.72     1  1.025993\n",
       "5      50  27.0  160.02     2 -0.858896\n",
       "6      53  65.0  160.02     1 -0.858896\n",
       "7      51  33.0  160.02     5 -0.858896\n",
       "8      54  26.0  167.64     1  0.272037\n",
       "9      53  32.0  165.10     2 -0.104941"
      ]
     },
     "execution_count": 42,
     "metadata": {},
     "output_type": "execute_result"
    }
   ],
   "source": [
    "df['zscore']=(df.height-df.height.mean())/df.height.std()\n",
    "df.head(10)"
   ]
  },
  {
   "cell_type": "code",
   "execution_count": 43,
   "metadata": {},
   "outputs": [
    {
     "data": {
      "text/plain": [
       "0         1.025993\n",
       "1         0.272037\n",
       "2        -0.104941\n",
       "3         1.402971\n",
       "4         1.025993\n",
       "            ...   \n",
       "119729    1.402971\n",
       "119730   -1.612852\n",
       "119731    1.025993\n",
       "119732    0.272037\n",
       "119733    0.272037\n",
       "Name: zscore, Length: 119153, dtype: float64"
      ]
     },
     "execution_count": 43,
     "metadata": {},
     "output_type": "execute_result"
    }
   ],
   "source": [
    "df['zscore']"
   ]
  },
  {
   "cell_type": "code",
   "execution_count": 44,
   "metadata": {},
   "outputs": [],
   "source": [
    "#Now let's remove the outliers \n",
    "#https://www.youtube.com/watch?v=Vc4cXIAa69Y\n",
    "def outliers(df, ft):\n",
    "    Q1=df[ft].quantile(0.25)\n",
    "    Q3=df[ft].quantile(0.75)\n",
    "    IQR= Q3 - Q1\n",
    "    \n",
    "    lower_bound= Q1 - 1.5 * IQR\n",
    "    upper_bound= Q3 + 1.5 * IQR\n",
    "    \n",
    "    st = df.index[ (df[ft] < lower_bound) | (df[ft] > upper_bound)]\n",
    "    \n",
    "    return st"
   ]
  },
  {
   "cell_type": "code",
   "execution_count": 45,
   "metadata": {},
   "outputs": [],
   "source": [
    "index_list=[]\n",
    "for i in ['height', 'weight', 'age']:\n",
    "    index_list.extend(outliers(df,i))"
   ]
  },
  {
   "cell_type": "code",
   "execution_count": 46,
   "metadata": {},
   "outputs": [
    {
     "data": {
      "text/plain": [
       "[385,\n",
       " 477,\n",
       " 2367,\n",
       " 2603,\n",
       " 3852,\n",
       " 3912,\n",
       " 5986,\n",
       " 8258,\n",
       " 8326,\n",
       " 9236,\n",
       " 9621,\n",
       " 9778,\n",
       " 10239,\n",
       " 10423,\n",
       " 10884,\n",
       " 11254,\n",
       " 12534,\n",
       " 13733,\n",
       " 14681,\n",
       " 14833,\n",
       " 15381,\n",
       " 15553,\n",
       " 17076,\n",
       " 18938,\n",
       " 18956,\n",
       " 19093,\n",
       " 19227,\n",
       " 19326,\n",
       " 19962,\n",
       " 20613,\n",
       " 20617,\n",
       " 20854,\n",
       " 21587,\n",
       " 21961,\n",
       " 22870,\n",
       " 22957,\n",
       " 24456,\n",
       " 25978,\n",
       " 26602,\n",
       " 27175,\n",
       " 27298,\n",
       " 27624,\n",
       " 27747,\n",
       " 28149,\n",
       " 28476,\n",
       " 28852,\n",
       " 29194,\n",
       " 30263,\n",
       " 30515,\n",
       " 31092,\n",
       " 32026,\n",
       " 32286,\n",
       " 32778,\n",
       " 34458,\n",
       " 35705,\n",
       " 36216,\n",
       " 37214,\n",
       " 37354,\n",
       " 37891,\n",
       " 38434,\n",
       " 39116,\n",
       " 39718,\n",
       " 40613,\n",
       " 42078,\n",
       " 42710,\n",
       " 42975,\n",
       " 43087,\n",
       " 43238,\n",
       " 43820,\n",
       " 45254,\n",
       " 45403,\n",
       " 45584,\n",
       " 45874,\n",
       " 46122,\n",
       " 47557,\n",
       " 48480,\n",
       " 48794,\n",
       " 49059,\n",
       " 50082,\n",
       " 51171,\n",
       " 51272,\n",
       " 52412,\n",
       " 52543,\n",
       " 53106,\n",
       " 53422,\n",
       " 54302,\n",
       " 54557,\n",
       " 54900,\n",
       " 55059,\n",
       " 55329,\n",
       " 55365,\n",
       " 55874,\n",
       " 56253,\n",
       " 56662,\n",
       " 57145,\n",
       " 57742,\n",
       " 58385,\n",
       " 58474,\n",
       " 59758,\n",
       " 59994,\n",
       " 60005,\n",
       " 60249,\n",
       " 60405,\n",
       " 61886,\n",
       " 62804,\n",
       " 63034,\n",
       " 63130,\n",
       " 63538,\n",
       " 65552,\n",
       " 65616,\n",
       " 66608,\n",
       " 67116,\n",
       " 67988,\n",
       " 68595,\n",
       " 68980,\n",
       " 69346,\n",
       " 70818,\n",
       " 71031,\n",
       " 73163,\n",
       " 75627,\n",
       " 76187,\n",
       " 77268,\n",
       " 77779,\n",
       " 77849,\n",
       " 78338,\n",
       " 79234,\n",
       " 80341,\n",
       " 80733,\n",
       " 80793,\n",
       " 82858,\n",
       " 83885,\n",
       " 85695,\n",
       " 86480,\n",
       " 87460,\n",
       " 89893,\n",
       " 90800,\n",
       " 92151,\n",
       " 92316,\n",
       " 92793,\n",
       " 93127,\n",
       " 93312,\n",
       " 93456,\n",
       " 93718,\n",
       " 93785,\n",
       " 94125,\n",
       " 94306,\n",
       " 96444,\n",
       " 96581,\n",
       " 97990,\n",
       " 98180,\n",
       " 98321,\n",
       " 98650,\n",
       " 100963,\n",
       " 101701,\n",
       " 102023,\n",
       " 102618,\n",
       " 102946,\n",
       " 103811,\n",
       " 104051,\n",
       " 104102,\n",
       " 104913,\n",
       " 105151,\n",
       " 105277,\n",
       " 105520,\n",
       " 106148,\n",
       " 106354,\n",
       " 106581,\n",
       " 106628,\n",
       " 108293,\n",
       " 108306,\n",
       " 108521,\n",
       " 109605,\n",
       " 113340,\n",
       " 114026,\n",
       " 114760,\n",
       " 114896,\n",
       " 115509,\n",
       " 115816,\n",
       " 117277,\n",
       " 117420,\n",
       " 118734,\n",
       " 119237,\n",
       " 119472,\n",
       " 33,\n",
       " 73,\n",
       " 74,\n",
       " 77,\n",
       " 91,\n",
       " 98,\n",
       " 121,\n",
       " 130,\n",
       " 196,\n",
       " 203,\n",
       " 233,\n",
       " 304,\n",
       " 418,\n",
       " 451,\n",
       " 558,\n",
       " 572,\n",
       " 598,\n",
       " 612,\n",
       " 628,\n",
       " 657,\n",
       " 696,\n",
       " 732,\n",
       " 820,\n",
       " 825,\n",
       " 843,\n",
       " 868,\n",
       " 871,\n",
       " 900,\n",
       " 905,\n",
       " 961,\n",
       " 1001,\n",
       " 1010,\n",
       " 1022,\n",
       " 1036,\n",
       " 1052,\n",
       " 1066,\n",
       " 1100,\n",
       " 1165,\n",
       " 1168,\n",
       " 1229,\n",
       " 1239,\n",
       " 1328,\n",
       " 1357,\n",
       " 1439,\n",
       " 1506,\n",
       " 1530,\n",
       " 1574,\n",
       " 1674,\n",
       " 1690,\n",
       " 1735,\n",
       " 1802,\n",
       " 1882,\n",
       " 1898,\n",
       " 1903,\n",
       " 2039,\n",
       " 2078,\n",
       " 2120,\n",
       " 2126,\n",
       " 2144,\n",
       " 2222,\n",
       " 2358,\n",
       " 2365,\n",
       " 2400,\n",
       " 2420,\n",
       " 2439,\n",
       " 2465,\n",
       " 2478,\n",
       " 2500,\n",
       " 2531,\n",
       " 2618,\n",
       " 2681,\n",
       " 2697,\n",
       " 2714,\n",
       " 2769,\n",
       " 2812,\n",
       " 2866,\n",
       " 2995,\n",
       " 3049,\n",
       " 3076,\n",
       " 3118,\n",
       " 3136,\n",
       " 3137,\n",
       " 3142,\n",
       " 3172,\n",
       " 3249,\n",
       " 3250,\n",
       " 3302,\n",
       " 3318,\n",
       " 3329,\n",
       " 3330,\n",
       " 3348,\n",
       " 3385,\n",
       " 3454,\n",
       " 3465,\n",
       " 3470,\n",
       " 3561,\n",
       " 3580,\n",
       " 3608,\n",
       " 3632,\n",
       " 3682,\n",
       " 3696,\n",
       " 3721,\n",
       " 3726,\n",
       " 3741,\n",
       " 3775,\n",
       " 3812,\n",
       " 3850,\n",
       " 3922,\n",
       " 3970,\n",
       " 3991,\n",
       " 4087,\n",
       " 4105,\n",
       " 4120,\n",
       " 4156,\n",
       " 4173,\n",
       " 4211,\n",
       " 4234,\n",
       " 4240,\n",
       " 4245,\n",
       " 4251,\n",
       " 4308,\n",
       " 4387,\n",
       " 4397,\n",
       " 4407,\n",
       " 4460,\n",
       " 4461,\n",
       " 4516,\n",
       " 4523,\n",
       " 4561,\n",
       " 4622,\n",
       " 4635,\n",
       " 4641,\n",
       " 4679,\n",
       " 4695,\n",
       " 4696,\n",
       " 4719,\n",
       " 4756,\n",
       " 4763,\n",
       " 4796,\n",
       " 4814,\n",
       " 4866,\n",
       " 4881,\n",
       " 4909,\n",
       " 4918,\n",
       " 4925,\n",
       " 5006,\n",
       " 5081,\n",
       " 5101,\n",
       " 5127,\n",
       " 5177,\n",
       " 5222,\n",
       " 5264,\n",
       " 5265,\n",
       " 5313,\n",
       " 5324,\n",
       " 5361,\n",
       " 5384,\n",
       " 5455,\n",
       " 5479,\n",
       " 5515,\n",
       " 5542,\n",
       " 5556,\n",
       " 5564,\n",
       " 5571,\n",
       " 5598,\n",
       " 5622,\n",
       " 5640,\n",
       " 5717,\n",
       " 5767,\n",
       " 5849,\n",
       " 5886,\n",
       " 5903,\n",
       " 5941,\n",
       " 5965,\n",
       " 5989,\n",
       " 6000,\n",
       " 6037,\n",
       " 6041,\n",
       " 6062,\n",
       " 6152,\n",
       " 6182,\n",
       " 6205,\n",
       " 6271,\n",
       " 6283,\n",
       " 6311,\n",
       " 6369,\n",
       " 6379,\n",
       " 6404,\n",
       " 6418,\n",
       " 6452,\n",
       " 6591,\n",
       " 6609,\n",
       " 6654,\n",
       " 6703,\n",
       " 6734,\n",
       " 6798,\n",
       " 6831,\n",
       " 6842,\n",
       " 6858,\n",
       " 6884,\n",
       " 6926,\n",
       " 6933,\n",
       " 6942,\n",
       " 7032,\n",
       " 7035,\n",
       " 7040,\n",
       " 7125,\n",
       " 7136,\n",
       " 7159,\n",
       " 7235,\n",
       " 7245,\n",
       " 7272,\n",
       " 7298,\n",
       " 7315,\n",
       " 7388,\n",
       " 7393,\n",
       " 7420,\n",
       " 7421,\n",
       " 7431,\n",
       " 7447,\n",
       " 7484,\n",
       " 7517,\n",
       " 7551,\n",
       " 7567,\n",
       " 7600,\n",
       " 7608,\n",
       " 7662,\n",
       " 7705,\n",
       " 7712,\n",
       " 7819,\n",
       " 7871,\n",
       " 7889,\n",
       " 7895,\n",
       " 7911,\n",
       " 7976,\n",
       " 7992,\n",
       " 8019,\n",
       " 8020,\n",
       " 8070,\n",
       " 8120,\n",
       " 8153,\n",
       " 8170,\n",
       " 8184,\n",
       " 8198,\n",
       " 8288,\n",
       " 8311,\n",
       " 8324,\n",
       " 8333,\n",
       " 8339,\n",
       " 8372,\n",
       " 8401,\n",
       " 8418,\n",
       " 8567,\n",
       " 8632,\n",
       " 8684,\n",
       " 8696,\n",
       " 8719,\n",
       " 8745,\n",
       " 8775,\n",
       " 8786,\n",
       " 8798,\n",
       " 8832,\n",
       " 8833,\n",
       " 8884,\n",
       " 8952,\n",
       " 9027,\n",
       " 9034,\n",
       " 9166,\n",
       " 9194,\n",
       " 9198,\n",
       " 9232,\n",
       " 9238,\n",
       " 9299,\n",
       " 9307,\n",
       " 9347,\n",
       " 9395,\n",
       " 9404,\n",
       " 9405,\n",
       " 9529,\n",
       " 9545,\n",
       " 9555,\n",
       " 9559,\n",
       " 9587,\n",
       " 9625,\n",
       " 9647,\n",
       " 9655,\n",
       " 9661,\n",
       " 9706,\n",
       " 9714,\n",
       " 9778,\n",
       " 9814,\n",
       " 9858,\n",
       " 9872,\n",
       " 9874,\n",
       " 9938,\n",
       " 9983,\n",
       " 9986,\n",
       " 10015,\n",
       " 10049,\n",
       " 10062,\n",
       " 10091,\n",
       " 10185,\n",
       " 10253,\n",
       " 10257,\n",
       " 10291,\n",
       " 10292,\n",
       " 10344,\n",
       " 10365,\n",
       " 10407,\n",
       " 10465,\n",
       " 10485,\n",
       " 10490,\n",
       " 10493,\n",
       " 10530,\n",
       " 10565,\n",
       " 10574,\n",
       " 10665,\n",
       " 10676,\n",
       " 10695,\n",
       " 10703,\n",
       " 10839,\n",
       " 10884,\n",
       " 10885,\n",
       " 10887,\n",
       " 10941,\n",
       " 10958,\n",
       " 10982,\n",
       " 10987,\n",
       " 11005,\n",
       " 11013,\n",
       " 11019,\n",
       " 11022,\n",
       " 11049,\n",
       " 11059,\n",
       " 11153,\n",
       " 11154,\n",
       " 11158,\n",
       " 11174,\n",
       " 11210,\n",
       " 11285,\n",
       " 11294,\n",
       " 11386,\n",
       " 11402,\n",
       " 11420,\n",
       " 11458,\n",
       " 11492,\n",
       " 11532,\n",
       " 11545,\n",
       " 11571,\n",
       " 11753,\n",
       " 11762,\n",
       " 11817,\n",
       " 11837,\n",
       " 11860,\n",
       " 11894,\n",
       " 11901,\n",
       " 11951,\n",
       " 11986,\n",
       " 12009,\n",
       " 12011,\n",
       " 12106,\n",
       " 12135,\n",
       " 12197,\n",
       " 12308,\n",
       " 12361,\n",
       " 12381,\n",
       " 12432,\n",
       " 12450,\n",
       " 12451,\n",
       " 12470,\n",
       " 12525,\n",
       " 12541,\n",
       " 12555,\n",
       " 12606,\n",
       " 12607,\n",
       " 12620,\n",
       " 12624,\n",
       " 12684,\n",
       " 12730,\n",
       " 12737,\n",
       " 12767,\n",
       " 12776,\n",
       " 12829,\n",
       " 12839,\n",
       " 12867,\n",
       " 12871,\n",
       " 12878,\n",
       " 12928,\n",
       " 12951,\n",
       " 12959,\n",
       " 12966,\n",
       " 12994,\n",
       " 13066,\n",
       " 13068,\n",
       " 13079,\n",
       " 13113,\n",
       " 13151,\n",
       " 13184,\n",
       " 13201,\n",
       " 13211,\n",
       " 13217,\n",
       " 13258,\n",
       " 13295,\n",
       " 13340,\n",
       " 13349,\n",
       " 13356,\n",
       " 13364,\n",
       " 13391,\n",
       " 13413,\n",
       " 13425,\n",
       " 13471,\n",
       " 13478,\n",
       " 13503,\n",
       " 13676,\n",
       " 13685,\n",
       " 13698,\n",
       " 13714,\n",
       " 13750,\n",
       " 13764,\n",
       " 13796,\n",
       " 13812,\n",
       " 13841,\n",
       " 13852,\n",
       " 13956,\n",
       " 13995,\n",
       " 14092,\n",
       " 14152,\n",
       " 14159,\n",
       " 14170,\n",
       " 14218,\n",
       " 14232,\n",
       " 14234,\n",
       " 14380,\n",
       " 14393,\n",
       " 14445,\n",
       " 14459,\n",
       " 14468,\n",
       " 14632,\n",
       " 14634,\n",
       " 14648,\n",
       " 14654,\n",
       " 14669,\n",
       " 14679,\n",
       " 14683,\n",
       " 14687,\n",
       " 14721,\n",
       " 14747,\n",
       " 14783,\n",
       " 14853,\n",
       " 14917,\n",
       " 14934,\n",
       " 14945,\n",
       " 14997,\n",
       " 15042,\n",
       " 15066,\n",
       " 15084,\n",
       " 15088,\n",
       " 15106,\n",
       " 15215,\n",
       " 15305,\n",
       " 15380,\n",
       " 15381,\n",
       " 15385,\n",
       " 15436,\n",
       " 15451,\n",
       " 15454,\n",
       " 15476,\n",
       " 15488,\n",
       " 15513,\n",
       " 15533,\n",
       " 15548,\n",
       " 15563,\n",
       " 15567,\n",
       " 15584,\n",
       " 15635,\n",
       " 15665,\n",
       " 15730,\n",
       " 15759,\n",
       " 15766,\n",
       " 15773,\n",
       " 15789,\n",
       " 15810,\n",
       " 15837,\n",
       " 15853,\n",
       " 15971,\n",
       " 15993,\n",
       " 16079,\n",
       " 16126,\n",
       " 16150,\n",
       " 16160,\n",
       " 16178,\n",
       " 16198,\n",
       " 16272,\n",
       " 16312,\n",
       " 16319,\n",
       " 16326,\n",
       " 16345,\n",
       " 16361,\n",
       " 16371,\n",
       " 16428,\n",
       " 16434,\n",
       " 16483,\n",
       " 16497,\n",
       " 16530,\n",
       " 16536,\n",
       " 16546,\n",
       " 16551,\n",
       " 16630,\n",
       " 16631,\n",
       " 16657,\n",
       " 16680,\n",
       " 16697,\n",
       " 16764,\n",
       " 16784,\n",
       " 16787,\n",
       " 16827,\n",
       " 16877,\n",
       " 16898,\n",
       " 16900,\n",
       " 16908,\n",
       " 16952,\n",
       " 16961,\n",
       " 17036,\n",
       " 17076,\n",
       " 17091,\n",
       " 17110,\n",
       " 17137,\n",
       " 17205,\n",
       " 17251,\n",
       " 17261,\n",
       " 17323,\n",
       " 17326,\n",
       " 17427,\n",
       " 17442,\n",
       " 17467,\n",
       " 17505,\n",
       " 17518,\n",
       " 17528,\n",
       " 17532,\n",
       " 17533,\n",
       " 17540,\n",
       " 17541,\n",
       " 17555,\n",
       " 17563,\n",
       " 17586,\n",
       " 17625,\n",
       " 17689,\n",
       " 17692,\n",
       " 17695,\n",
       " 17698,\n",
       " 17729,\n",
       " 17730,\n",
       " 17796,\n",
       " 17826,\n",
       " 17858,\n",
       " 17865,\n",
       " 17877,\n",
       " 17916,\n",
       " 17960,\n",
       " 17975,\n",
       " 17981,\n",
       " 17993,\n",
       " 18008,\n",
       " 18010,\n",
       " 18018,\n",
       " 18045,\n",
       " 18052,\n",
       " 18067,\n",
       " 18084,\n",
       " 18104,\n",
       " 18118,\n",
       " 18125,\n",
       " 18149,\n",
       " 18169,\n",
       " 18174,\n",
       " 18188,\n",
       " 18256,\n",
       " 18274,\n",
       " 18289,\n",
       " 18370,\n",
       " 18420,\n",
       " 18433,\n",
       " 18452,\n",
       " 18469,\n",
       " 18563,\n",
       " 18709,\n",
       " 18716,\n",
       " 18735,\n",
       " 18765,\n",
       " 18798,\n",
       " 18853,\n",
       " 18854,\n",
       " 18980,\n",
       " 18990,\n",
       " 19118,\n",
       " 19123,\n",
       " 19145,\n",
       " 19171,\n",
       " 19172,\n",
       " 19235,\n",
       " 19242,\n",
       " 19257,\n",
       " 19277,\n",
       " 19379,\n",
       " 19392,\n",
       " 19463,\n",
       " 19476,\n",
       " 19570,\n",
       " 19669,\n",
       " 19686,\n",
       " 19690,\n",
       " 19702,\n",
       " 19707,\n",
       " 19742,\n",
       " 19792,\n",
       " 19802,\n",
       " 19820,\n",
       " 19829,\n",
       " 19837,\n",
       " 19851,\n",
       " 19854,\n",
       " 19907,\n",
       " 19967,\n",
       " 19992,\n",
       " 20017,\n",
       " 20021,\n",
       " 20036,\n",
       " 20059,\n",
       " 20108,\n",
       " 20132,\n",
       " 20134,\n",
       " 20168,\n",
       " 20270,\n",
       " 20280,\n",
       " 20320,\n",
       " 20332,\n",
       " 20447,\n",
       " 20466,\n",
       " 20488,\n",
       " 20503,\n",
       " 20533,\n",
       " 20617,\n",
       " 20624,\n",
       " 20652,\n",
       " 20669,\n",
       " 20674,\n",
       " 20711,\n",
       " 20713,\n",
       " 20740,\n",
       " 20794,\n",
       " 20802,\n",
       " 20862,\n",
       " 20869,\n",
       " 20870,\n",
       " 20883,\n",
       " 20915,\n",
       " 20931,\n",
       " 20946,\n",
       " 21017,\n",
       " 21027,\n",
       " 21060,\n",
       " 21205,\n",
       " 21225,\n",
       " 21239,\n",
       " 21267,\n",
       " 21298,\n",
       " 21325,\n",
       " 21385,\n",
       " 21416,\n",
       " 21444,\n",
       " 21474,\n",
       " 21517,\n",
       " 21565,\n",
       " 21615,\n",
       " 21620,\n",
       " 21726,\n",
       " 21757,\n",
       " 21770,\n",
       " 21821,\n",
       " 21877,\n",
       " 21889,\n",
       " 21895,\n",
       " 22005,\n",
       " 22032,\n",
       " 22155,\n",
       " 22192,\n",
       " 22203,\n",
       " 22212,\n",
       " 22223,\n",
       " 22253,\n",
       " 22258,\n",
       " 22458,\n",
       " 22473,\n",
       " 22507,\n",
       " 22515,\n",
       " 22522,\n",
       " 22538,\n",
       " 22541,\n",
       " 22694,\n",
       " 22775,\n",
       " 22839,\n",
       " 22956,\n",
       " 22993,\n",
       " 23008,\n",
       " 23049,\n",
       " 23080,\n",
       " 23088,\n",
       " 23144,\n",
       " 23191,\n",
       " 23217,\n",
       " 23238,\n",
       " 23254,\n",
       " 23261,\n",
       " 23291,\n",
       " 23302,\n",
       " 23306,\n",
       " 23308,\n",
       " 23316,\n",
       " 23329,\n",
       " 23354,\n",
       " 23379,\n",
       " 23393,\n",
       " 23396,\n",
       " 23527,\n",
       " 23574,\n",
       " 23607,\n",
       " 23610,\n",
       " 23645,\n",
       " 23666,\n",
       " 23678,\n",
       " 23724,\n",
       " 23758,\n",
       " 23806,\n",
       " 23818,\n",
       " 23981,\n",
       " 23988,\n",
       " 24023,\n",
       " 24098,\n",
       " 24138,\n",
       " 24143,\n",
       " 24221,\n",
       " 24224,\n",
       " 24245,\n",
       " 24251,\n",
       " 24256,\n",
       " 24289,\n",
       " 24297,\n",
       " 24330,\n",
       " 24357,\n",
       " 24369,\n",
       " 24428,\n",
       " 24433,\n",
       " 24456,\n",
       " 24458,\n",
       " 24465,\n",
       " 24482,\n",
       " 24485,\n",
       " 24522,\n",
       " 24529,\n",
       " 24534,\n",
       " 24566,\n",
       " 24570,\n",
       " 24576,\n",
       " 24581,\n",
       " 24592,\n",
       " 24595,\n",
       " 24656,\n",
       " 24661,\n",
       " 24687,\n",
       " 24735,\n",
       " 24742,\n",
       " 24833,\n",
       " 24929,\n",
       " 25006,\n",
       " 25012,\n",
       " 25028,\n",
       " 25105,\n",
       " 25108,\n",
       " 25157,\n",
       " 25214,\n",
       " 25224,\n",
       " 25278,\n",
       " 25291,\n",
       " 25323,\n",
       " 25366,\n",
       " 25403,\n",
       " 25462,\n",
       " 25489,\n",
       " 25549,\n",
       " 25565,\n",
       " 25576,\n",
       " 25579,\n",
       " 25587,\n",
       " 25725,\n",
       " 25768,\n",
       " 25769,\n",
       " 25777,\n",
       " 25782,\n",
       " 25930,\n",
       " 25962,\n",
       " 26029,\n",
       " 26124,\n",
       " 26130,\n",
       " 26149,\n",
       " 26212,\n",
       " 26265,\n",
       " 26341,\n",
       " 26343,\n",
       " 26365,\n",
       " 26373,\n",
       " 26382,\n",
       " 26387,\n",
       " 26480,\n",
       " 26558,\n",
       " 26586,\n",
       " 26600,\n",
       " 26612,\n",
       " ...]"
      ]
     },
     "execution_count": 46,
     "metadata": {},
     "output_type": "execute_result"
    }
   ],
   "source": [
    "#This is list is the outliers \n",
    "index_list"
   ]
  },
  {
   "cell_type": "code",
   "execution_count": 60,
   "metadata": {},
   "outputs": [
    {
     "name": "stdout",
     "output_type": "stream",
     "text": [
      "DataFrame shape before delete outliers is.  (118681, 5)\n"
     ]
    },
    {
     "ename": "KeyError",
     "evalue": "'[385] not found in axis'",
     "output_type": "error",
     "traceback": [
      "\u001b[1;31m---------------------------------------------------------------------------\u001b[0m",
      "\u001b[1;31mKeyError\u001b[0m                                  Traceback (most recent call last)",
      "\u001b[1;32m<ipython-input-60-5e84b053dbc2>\u001b[0m in \u001b[0;36m<module>\u001b[1;34m\u001b[0m\n\u001b[0;32m      1\u001b[0m \u001b[0mprint\u001b[0m\u001b[1;33m(\u001b[0m\u001b[1;34m\"DataFrame shape before delete outliers is. \"\u001b[0m\u001b[1;33m,\u001b[0m \u001b[0mdf\u001b[0m\u001b[1;33m.\u001b[0m\u001b[0mshape\u001b[0m\u001b[1;33m)\u001b[0m\u001b[1;33m\u001b[0m\u001b[1;33m\u001b[0m\u001b[0m\n\u001b[0;32m      2\u001b[0m \u001b[1;32mfor\u001b[0m \u001b[0moutliers\u001b[0m \u001b[1;32min\u001b[0m \u001b[0mindex_list\u001b[0m\u001b[1;33m:\u001b[0m\u001b[1;33m\u001b[0m\u001b[1;33m\u001b[0m\u001b[0m\n\u001b[1;32m----> 3\u001b[1;33m     \u001b[0mdf\u001b[0m\u001b[1;33m.\u001b[0m\u001b[0mdrop\u001b[0m\u001b[1;33m(\u001b[0m\u001b[0moutliers\u001b[0m\u001b[1;33m,\u001b[0m \u001b[0minplace\u001b[0m\u001b[1;33m=\u001b[0m\u001b[1;32mTrue\u001b[0m\u001b[1;33m)\u001b[0m\u001b[1;33m\u001b[0m\u001b[1;33m\u001b[0m\u001b[0m\n\u001b[0m\u001b[0;32m      4\u001b[0m \u001b[0mprint\u001b[0m\u001b[1;33m(\u001b[0m\u001b[1;34m\"DataFrame shape after deleting outliers. \"\u001b[0m\u001b[1;33m,\u001b[0m\u001b[0mdf\u001b[0m\u001b[1;33m.\u001b[0m\u001b[0mshape\u001b[0m\u001b[1;33m)\u001b[0m\u001b[1;33m\u001b[0m\u001b[1;33m\u001b[0m\u001b[0m\n",
      "\u001b[1;32m~\\anaconda3\\lib\\site-packages\\pandas\\core\\frame.py\u001b[0m in \u001b[0;36mdrop\u001b[1;34m(self, labels, axis, index, columns, level, inplace, errors)\u001b[0m\n\u001b[0;32m   3995\u001b[0m             \u001b[0mlevel\u001b[0m\u001b[1;33m=\u001b[0m\u001b[0mlevel\u001b[0m\u001b[1;33m,\u001b[0m\u001b[1;33m\u001b[0m\u001b[1;33m\u001b[0m\u001b[0m\n\u001b[0;32m   3996\u001b[0m             \u001b[0minplace\u001b[0m\u001b[1;33m=\u001b[0m\u001b[0minplace\u001b[0m\u001b[1;33m,\u001b[0m\u001b[1;33m\u001b[0m\u001b[1;33m\u001b[0m\u001b[0m\n\u001b[1;32m-> 3997\u001b[1;33m             \u001b[0merrors\u001b[0m\u001b[1;33m=\u001b[0m\u001b[0merrors\u001b[0m\u001b[1;33m,\u001b[0m\u001b[1;33m\u001b[0m\u001b[1;33m\u001b[0m\u001b[0m\n\u001b[0m\u001b[0;32m   3998\u001b[0m         )\n\u001b[0;32m   3999\u001b[0m \u001b[1;33m\u001b[0m\u001b[0m\n",
      "\u001b[1;32m~\\anaconda3\\lib\\site-packages\\pandas\\core\\generic.py\u001b[0m in \u001b[0;36mdrop\u001b[1;34m(self, labels, axis, index, columns, level, inplace, errors)\u001b[0m\n\u001b[0;32m   3934\u001b[0m         \u001b[1;32mfor\u001b[0m \u001b[0maxis\u001b[0m\u001b[1;33m,\u001b[0m \u001b[0mlabels\u001b[0m \u001b[1;32min\u001b[0m \u001b[0maxes\u001b[0m\u001b[1;33m.\u001b[0m\u001b[0mitems\u001b[0m\u001b[1;33m(\u001b[0m\u001b[1;33m)\u001b[0m\u001b[1;33m:\u001b[0m\u001b[1;33m\u001b[0m\u001b[1;33m\u001b[0m\u001b[0m\n\u001b[0;32m   3935\u001b[0m             \u001b[1;32mif\u001b[0m \u001b[0mlabels\u001b[0m \u001b[1;32mis\u001b[0m \u001b[1;32mnot\u001b[0m \u001b[1;32mNone\u001b[0m\u001b[1;33m:\u001b[0m\u001b[1;33m\u001b[0m\u001b[1;33m\u001b[0m\u001b[0m\n\u001b[1;32m-> 3936\u001b[1;33m                 \u001b[0mobj\u001b[0m \u001b[1;33m=\u001b[0m \u001b[0mobj\u001b[0m\u001b[1;33m.\u001b[0m\u001b[0m_drop_axis\u001b[0m\u001b[1;33m(\u001b[0m\u001b[0mlabels\u001b[0m\u001b[1;33m,\u001b[0m \u001b[0maxis\u001b[0m\u001b[1;33m,\u001b[0m \u001b[0mlevel\u001b[0m\u001b[1;33m=\u001b[0m\u001b[0mlevel\u001b[0m\u001b[1;33m,\u001b[0m \u001b[0merrors\u001b[0m\u001b[1;33m=\u001b[0m\u001b[0merrors\u001b[0m\u001b[1;33m)\u001b[0m\u001b[1;33m\u001b[0m\u001b[1;33m\u001b[0m\u001b[0m\n\u001b[0m\u001b[0;32m   3937\u001b[0m \u001b[1;33m\u001b[0m\u001b[0m\n\u001b[0;32m   3938\u001b[0m         \u001b[1;32mif\u001b[0m \u001b[0minplace\u001b[0m\u001b[1;33m:\u001b[0m\u001b[1;33m\u001b[0m\u001b[1;33m\u001b[0m\u001b[0m\n",
      "\u001b[1;32m~\\anaconda3\\lib\\site-packages\\pandas\\core\\generic.py\u001b[0m in \u001b[0;36m_drop_axis\u001b[1;34m(self, labels, axis, level, errors)\u001b[0m\n\u001b[0;32m   3968\u001b[0m                 \u001b[0mnew_axis\u001b[0m \u001b[1;33m=\u001b[0m \u001b[0maxis\u001b[0m\u001b[1;33m.\u001b[0m\u001b[0mdrop\u001b[0m\u001b[1;33m(\u001b[0m\u001b[0mlabels\u001b[0m\u001b[1;33m,\u001b[0m \u001b[0mlevel\u001b[0m\u001b[1;33m=\u001b[0m\u001b[0mlevel\u001b[0m\u001b[1;33m,\u001b[0m \u001b[0merrors\u001b[0m\u001b[1;33m=\u001b[0m\u001b[0merrors\u001b[0m\u001b[1;33m)\u001b[0m\u001b[1;33m\u001b[0m\u001b[1;33m\u001b[0m\u001b[0m\n\u001b[0;32m   3969\u001b[0m             \u001b[1;32melse\u001b[0m\u001b[1;33m:\u001b[0m\u001b[1;33m\u001b[0m\u001b[1;33m\u001b[0m\u001b[0m\n\u001b[1;32m-> 3970\u001b[1;33m                 \u001b[0mnew_axis\u001b[0m \u001b[1;33m=\u001b[0m \u001b[0maxis\u001b[0m\u001b[1;33m.\u001b[0m\u001b[0mdrop\u001b[0m\u001b[1;33m(\u001b[0m\u001b[0mlabels\u001b[0m\u001b[1;33m,\u001b[0m \u001b[0merrors\u001b[0m\u001b[1;33m=\u001b[0m\u001b[0merrors\u001b[0m\u001b[1;33m)\u001b[0m\u001b[1;33m\u001b[0m\u001b[1;33m\u001b[0m\u001b[0m\n\u001b[0m\u001b[0;32m   3971\u001b[0m             \u001b[0mresult\u001b[0m \u001b[1;33m=\u001b[0m \u001b[0mself\u001b[0m\u001b[1;33m.\u001b[0m\u001b[0mreindex\u001b[0m\u001b[1;33m(\u001b[0m\u001b[1;33m**\u001b[0m\u001b[1;33m{\u001b[0m\u001b[0maxis_name\u001b[0m\u001b[1;33m:\u001b[0m \u001b[0mnew_axis\u001b[0m\u001b[1;33m}\u001b[0m\u001b[1;33m)\u001b[0m\u001b[1;33m\u001b[0m\u001b[1;33m\u001b[0m\u001b[0m\n\u001b[0;32m   3972\u001b[0m \u001b[1;33m\u001b[0m\u001b[0m\n",
      "\u001b[1;32m~\\anaconda3\\lib\\site-packages\\pandas\\core\\indexes\\base.py\u001b[0m in \u001b[0;36mdrop\u001b[1;34m(self, labels, errors)\u001b[0m\n\u001b[0;32m   5016\u001b[0m         \u001b[1;32mif\u001b[0m \u001b[0mmask\u001b[0m\u001b[1;33m.\u001b[0m\u001b[0many\u001b[0m\u001b[1;33m(\u001b[0m\u001b[1;33m)\u001b[0m\u001b[1;33m:\u001b[0m\u001b[1;33m\u001b[0m\u001b[1;33m\u001b[0m\u001b[0m\n\u001b[0;32m   5017\u001b[0m             \u001b[1;32mif\u001b[0m \u001b[0merrors\u001b[0m \u001b[1;33m!=\u001b[0m \u001b[1;34m\"ignore\"\u001b[0m\u001b[1;33m:\u001b[0m\u001b[1;33m\u001b[0m\u001b[1;33m\u001b[0m\u001b[0m\n\u001b[1;32m-> 5018\u001b[1;33m                 \u001b[1;32mraise\u001b[0m \u001b[0mKeyError\u001b[0m\u001b[1;33m(\u001b[0m\u001b[1;34mf\"{labels[mask]} not found in axis\"\u001b[0m\u001b[1;33m)\u001b[0m\u001b[1;33m\u001b[0m\u001b[1;33m\u001b[0m\u001b[0m\n\u001b[0m\u001b[0;32m   5019\u001b[0m             \u001b[0mindexer\u001b[0m \u001b[1;33m=\u001b[0m \u001b[0mindexer\u001b[0m\u001b[1;33m[\u001b[0m\u001b[1;33m~\u001b[0m\u001b[0mmask\u001b[0m\u001b[1;33m]\u001b[0m\u001b[1;33m\u001b[0m\u001b[1;33m\u001b[0m\u001b[0m\n\u001b[0;32m   5020\u001b[0m         \u001b[1;32mreturn\u001b[0m \u001b[0mself\u001b[0m\u001b[1;33m.\u001b[0m\u001b[0mdelete\u001b[0m\u001b[1;33m(\u001b[0m\u001b[0mindexer\u001b[0m\u001b[1;33m)\u001b[0m\u001b[1;33m\u001b[0m\u001b[1;33m\u001b[0m\u001b[0m\n",
      "\u001b[1;31mKeyError\u001b[0m: '[385] not found in axis'"
     ]
    }
   ],
   "source": [
    "print(\"DataFrame shape before delete outliers is. \", df.shape)\n",
    "for outliers in index_list:\n",
    "    df.drop(outliers, inplace=True)\n",
    "print(\"DataFrame shape after deleting outliers. \",df.shape)"
   ]
  },
  {
   "cell_type": "code",
   "execution_count": 71,
   "metadata": {},
   "outputs": [],
   "source": [
    "from sklearn.model_selection import train_test_split\n",
    "from sklearn.preprocessing import StandardScaler"
   ]
  },
  {
   "cell_type": "code",
   "execution_count": 72,
   "metadata": {},
   "outputs": [],
   "source": [
    "x_train, x_test, y_train, y_test = train_test_split(x, y, test_size=0.2)"
   ]
  },
  {
   "cell_type": "code",
   "execution_count": 73,
   "metadata": {},
   "outputs": [],
   "source": [
    "scaler= StandardScaler()\n",
    "\n",
    "scaler.fit(x_train)\n",
    "\n",
    "x_train = scaler.transform(x_train)\n",
    "x_test = scaler.transform(x_test)"
   ]
  },
  {
   "cell_type": "code",
   "execution_count": 74,
   "metadata": {},
   "outputs": [],
   "source": [
    "from sklearn.datasets import load_iris"
   ]
  },
  {
   "cell_type": "code",
   "execution_count": 75,
   "metadata": {},
   "outputs": [],
   "source": [
    "#from sklearn.metrics import classification_report\n",
    "#from sklearn.metrics import confusion_matrix\n",
    "#from sklearn.metrics import accuracy_score\n",
    "from sklearn.neighbors import KNeighborsClassifier\n",
    "from sklearn.svm import SVR\n",
    "from sklearn.tree import DecisionTreeRegressor\n",
    "from sklearn.ensemble import RandomForestRegressor"
   ]
  },
  {
   "cell_type": "code",
   "execution_count": 76,
   "metadata": {},
   "outputs": [],
   "source": [
    "models = {\n",
    "    \"KNNR\" : KNeighborsClassifier(), \n",
    "    \"SVR\": SVR(),\n",
    "    \"DT\": DecisionTreeRegressor(),\n",
    "    \"RF\": RandomForestRegressor(),\n",
    "}"
   ]
  },
  {
   "cell_type": "code",
   "execution_count": 77,
   "metadata": {},
   "outputs": [
    {
     "name": "stdout",
     "output_type": "stream",
     "text": [
      "Using model: KNNR\n"
     ]
    },
    {
     "name": "stderr",
     "output_type": "stream",
     "text": [
      "C:\\Users\\pc\\anaconda3\\lib\\site-packages\\ipykernel_launcher.py:3: DataConversionWarning: A column-vector y was passed when a 1d array was expected. Please change the shape of y to (n_samples, ), for example using ravel().\n",
      "  This is separate from the ipykernel package so we can avoid doing imports until\n"
     ]
    },
    {
     "name": "stdout",
     "output_type": "stream",
     "text": [
      "Training Score: 0.5284404439688635\n",
      "Test Score: 0.4742142587386178\n",
      "------------------------------\n",
      "Using model: SVR\n"
     ]
    },
    {
     "name": "stderr",
     "output_type": "stream",
     "text": [
      "C:\\Users\\pc\\anaconda3\\lib\\site-packages\\sklearn\\utils\\validation.py:760: DataConversionWarning: A column-vector y was passed when a 1d array was expected. Please change the shape of y to (n_samples, ), for example using ravel().\n",
      "  y = column_or_1d(y, warn=True)\n"
     ]
    },
    {
     "name": "stdout",
     "output_type": "stream",
     "text": [
      "Training Score: 0.45219974264979723\n",
      "Test Score: 0.4477033871523398\n",
      "------------------------------\n",
      "Using model: DT\n",
      "Training Score: 0.5704740361959258\n",
      "Test Score: 0.43693138828466294\n",
      "------------------------------\n",
      "Using model: RF\n"
     ]
    },
    {
     "name": "stderr",
     "output_type": "stream",
     "text": [
      "C:\\Users\\pc\\anaconda3\\lib\\site-packages\\ipykernel_launcher.py:3: DataConversionWarning: A column-vector y was passed when a 1d array was expected. Please change the shape of y to (n_samples,), for example using ravel().\n",
      "  This is separate from the ipykernel package so we can avoid doing imports until\n"
     ]
    },
    {
     "name": "stdout",
     "output_type": "stream",
     "text": [
      "Training Score: 0.5661240245678584\n",
      "Test Score: 0.46072943063132293\n",
      "------------------------------\n"
     ]
    }
   ],
   "source": [
    "for name, model in models.items():\n",
    "    print(f'Using model: {name}')\n",
    "    model.fit(x_train, y_train)\n",
    "    print(f'Training Score: {model.score(x_train, y_train)}')\n",
    "    print(f'Test Score: {model.score(x_test, y_test)}')  \n",
    "    print('-'*30)"
   ]
  },
  {
   "cell_type": "code",
   "execution_count": 71,
   "metadata": {},
   "outputs": [
    {
     "name": "stderr",
     "output_type": "stream",
     "text": [
      "C:\\Users\\pc\\anaconda3\\lib\\site-packages\\ipykernel_launcher.py:5: DataConversionWarning: A column-vector y was passed when a 1d array was expected. Please change the shape of y to (n_samples,), for example using ravel().\n",
      "  \"\"\"\n"
     ]
    },
    {
     "data": {
      "text/plain": [
       "RandomForestRegressor(bootstrap=True, ccp_alpha=0.0, criterion='mse',\n",
       "                      max_depth=None, max_features='auto', max_leaf_nodes=None,\n",
       "                      max_samples=None, min_impurity_decrease=0.0,\n",
       "                      min_impurity_split=None, min_samples_leaf=1,\n",
       "                      min_samples_split=2, min_weight_fraction_leaf=0.0,\n",
       "                      n_estimators=100, n_jobs=None, oob_score=False,\n",
       "                      random_state=None, verbose=0, warm_start=False)"
      ]
     },
     "execution_count": 71,
     "metadata": {},
     "output_type": "execute_result"
    }
   ],
   "source": [
    "#As we can see the oultiers affect badly on the results!\n",
    "#But best result goes to RF\n",
    "model = RandomForestRegressor()\n",
    "\n",
    "model.fit(x_train, y_train)"
   ]
  },
  {
   "cell_type": "code",
   "execution_count": 79,
   "metadata": {},
   "outputs": [
    {
     "name": "stdout",
     "output_type": "stream",
     "text": [
      "[[-1.8825018   0.48628961 -1.61295496]\n",
      " [-0.37814294 -0.37296751 -0.48268336]\n",
      " [ 0.12331002 -0.25021649  0.64758825]\n",
      " ...\n",
      " [ 1.02592533 -0.9867226   0.27083105]\n",
      " [-0.37814294 -0.25021649  1.40110265]\n",
      " [ 1.02592533  0.60904063  0.27083105]]\n"
     ]
    }
   ],
   "source": [
    "print(x_test)"
   ]
  },
  {
   "cell_type": "code",
   "execution_count": 80,
   "metadata": {},
   "outputs": [
    {
     "data": {
      "text/plain": [
       "array([5.        , 1.17221468, 1.26329448, ..., 5.11533962, 1.62922526,\n",
       "       4.17646679])"
      ]
     },
     "execution_count": 80,
     "metadata": {},
     "output_type": "execute_result"
    }
   ],
   "source": [
    "y_pred = model.predict(x_test)\n",
    "y_pred"
   ]
  },
  {
   "cell_type": "code",
   "execution_count": 81,
   "metadata": {},
   "outputs": [
    {
     "data": {
      "text/html": [
       "<div>\n",
       "<style scoped>\n",
       "    .dataframe tbody tr th:only-of-type {\n",
       "        vertical-align: middle;\n",
       "    }\n",
       "\n",
       "    .dataframe tbody tr th {\n",
       "        vertical-align: top;\n",
       "    }\n",
       "\n",
       "    .dataframe thead th {\n",
       "        text-align: right;\n",
       "    }\n",
       "</style>\n",
       "<table border=\"1\" class=\"dataframe\">\n",
       "  <thead>\n",
       "    <tr style=\"text-align: right;\">\n",
       "      <th></th>\n",
       "      <th>size</th>\n",
       "    </tr>\n",
       "  </thead>\n",
       "  <tbody>\n",
       "    <tr>\n",
       "      <th>76990</th>\n",
       "      <td>2</td>\n",
       "    </tr>\n",
       "    <tr>\n",
       "      <th>38805</th>\n",
       "      <td>1</td>\n",
       "    </tr>\n",
       "    <tr>\n",
       "      <th>41265</th>\n",
       "      <td>3</td>\n",
       "    </tr>\n",
       "    <tr>\n",
       "      <th>77655</th>\n",
       "      <td>1</td>\n",
       "    </tr>\n",
       "    <tr>\n",
       "      <th>59294</th>\n",
       "      <td>2</td>\n",
       "    </tr>\n",
       "    <tr>\n",
       "      <th>...</th>\n",
       "      <td>...</td>\n",
       "    </tr>\n",
       "    <tr>\n",
       "      <th>94631</th>\n",
       "      <td>0</td>\n",
       "    </tr>\n",
       "    <tr>\n",
       "      <th>16919</th>\n",
       "      <td>2</td>\n",
       "    </tr>\n",
       "    <tr>\n",
       "      <th>3847</th>\n",
       "      <td>6</td>\n",
       "    </tr>\n",
       "    <tr>\n",
       "      <th>39469</th>\n",
       "      <td>1</td>\n",
       "    </tr>\n",
       "    <tr>\n",
       "      <th>86352</th>\n",
       "      <td>3</td>\n",
       "    </tr>\n",
       "  </tbody>\n",
       "</table>\n",
       "<p>23831 rows × 1 columns</p>\n",
       "</div>"
      ],
      "text/plain": [
       "       size\n",
       "76990     2\n",
       "38805     1\n",
       "41265     3\n",
       "77655     1\n",
       "59294     2\n",
       "...     ...\n",
       "94631     0\n",
       "16919     2\n",
       "3847      6\n",
       "39469     1\n",
       "86352     3\n",
       "\n",
       "[23831 rows x 1 columns]"
      ]
     },
     "execution_count": 81,
     "metadata": {},
     "output_type": "execute_result"
    }
   ],
   "source": [
    "y_test"
   ]
  },
  {
   "cell_type": "code",
   "execution_count": 82,
   "metadata": {},
   "outputs": [
    {
     "data": {
      "text/plain": [
       "Index(['weight', 'age', 'height'], dtype='object')"
      ]
     },
     "execution_count": 82,
     "metadata": {},
     "output_type": "execute_result"
    }
   ],
   "source": [
    "x.columns"
   ]
  },
  {
   "cell_type": "code",
   "execution_count": 83,
   "metadata": {},
   "outputs": [],
   "source": [
    "#Trying to use a calssifier \n",
    "#https://www.activestate.com/resources/quick-reads/how-to-classify-data-in-python/\n",
    "#Since we have more than 2 values, we need to use Multi-calss classification such as:\n",
    "#Decision Tree/Random Forest, K-Nearest Neighbors (KNN), Linear Discriminant Analysis, Support Vector Machines (SVMs)\n",
    "#Since we have already used DT, KNN and SVM previously! so we can try "
   ]
  },
  {
   "cell_type": "code",
   "execution_count": 84,
   "metadata": {},
   "outputs": [],
   "source": [
    "# Import libraries and classes required for this example:\n",
    "from sklearn.model_selection import train_test_split\n",
    "from sklearn.preprocessing import StandardScaler \n",
    "from sklearn.neighbors import KNeighborsClassifier\n",
    "from sklearn.metrics import classification_report, confusion_matrix"
   ]
  },
  {
   "cell_type": "code",
   "execution_count": 85,
   "metadata": {},
   "outputs": [],
   "source": [
    "# Standardize features by removing mean and scaling to unit variance:\n",
    "scaler = StandardScaler()\n",
    "scaler.fit(x_train)\n",
    "\n",
    "x_train = scaler.transform(x_train)\n",
    "x_test = scaler.transform(x_test)"
   ]
  },
  {
   "cell_type": "code",
   "execution_count": 86,
   "metadata": {},
   "outputs": [
    {
     "name": "stderr",
     "output_type": "stream",
     "text": [
      "C:\\Users\\pc\\anaconda3\\lib\\site-packages\\ipykernel_launcher.py:3: DataConversionWarning: A column-vector y was passed when a 1d array was expected. Please change the shape of y to (n_samples, ), for example using ravel().\n",
      "  This is separate from the ipykernel package so we can avoid doing imports until\n"
     ]
    },
    {
     "name": "stdout",
     "output_type": "stream",
     "text": [
      "[[1335 1161  195  673    0   13  184]\n",
      " [1157 2971 1154  397    0  157   62]\n",
      " [ 261 1495 1926   68    0  621   11]\n",
      " [1060  653   90 1300    0    9  665]\n",
      " [   3    1    0    3    0    0    4]\n",
      " [  26  350  859    6    0  728    3]\n",
      " [ 266  135   23  759    0    4 3043]]\n",
      "              precision    recall  f1-score   support\n",
      "\n",
      "           0       0.32      0.37      0.35      3561\n",
      "           1       0.44      0.50      0.47      5898\n",
      "           2       0.45      0.44      0.45      4382\n",
      "           3       0.41      0.34      0.37      3777\n",
      "           4       0.00      0.00      0.00        11\n",
      "           5       0.48      0.37      0.42      1972\n",
      "           6       0.77      0.72      0.74      4230\n",
      "\n",
      "    accuracy                           0.47     23831\n",
      "   macro avg       0.41      0.39      0.40     23831\n",
      "weighted avg       0.48      0.47      0.48     23831\n",
      "\n"
     ]
    },
    {
     "name": "stderr",
     "output_type": "stream",
     "text": [
      "C:\\Users\\pc\\anaconda3\\lib\\site-packages\\sklearn\\metrics\\_classification.py:1272: UndefinedMetricWarning: Precision and F-score are ill-defined and being set to 0.0 in labels with no predicted samples. Use `zero_division` parameter to control this behavior.\n",
      "  _warn_prf(average, modifier, msg_start, len(result))\n"
     ]
    }
   ],
   "source": [
    "# Use the KNN classifier to fit data:\n",
    "classifier = KNeighborsClassifier(n_neighbors=5)\n",
    "classifier.fit(x_train, y_train) \n",
    "\n",
    "# Predict y data with classifier: \n",
    "y_predict = classifier.predict(x_test)\n",
    "\n",
    "# Print results: \n",
    "print(confusion_matrix(y_test, y_predict))\n",
    "print(classification_report(y_test, y_predict))"
   ]
  },
  {
   "cell_type": "code",
   "execution_count": 87,
   "metadata": {},
   "outputs": [
    {
     "name": "stdout",
     "output_type": "stream",
     "text": [
      "R2_Score is:  0.4607\n"
     ]
    }
   ],
   "source": [
    "from sklearn.metrics import r2_score\n",
    "\n",
    "print(\"R2_Score is: \", r2_score(y_test, y_pred).round(4))"
   ]
  },
  {
   "cell_type": "code",
   "execution_count": null,
   "metadata": {},
   "outputs": [],
   "source": [
    "#The result is very poor which means the model will be very bad in predicting "
   ]
  },
  {
   "cell_type": "code",
   "execution_count": null,
   "metadata": {},
   "outputs": [],
   "source": []
  }
 ],
 "metadata": {
  "kernelspec": {
   "display_name": "Python 3",
   "language": "python",
   "name": "python3"
  },
  "language_info": {
   "codemirror_mode": {
    "name": "ipython",
    "version": 3
   },
   "file_extension": ".py",
   "mimetype": "text/x-python",
   "name": "python",
   "nbconvert_exporter": "python",
   "pygments_lexer": "ipython3",
   "version": "3.7.6"
  }
 },
 "nbformat": 4,
 "nbformat_minor": 4
}
